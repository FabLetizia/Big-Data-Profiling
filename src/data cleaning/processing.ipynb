{
 "cells": [
  {
   "cell_type": "code",
   "execution_count": 1,
   "metadata": {},
   "outputs": [],
   "source": [
    "from pyspark.sql.functions import *\n",
    "from pyspark.sql.functions import sum as _sum\n",
    "from pyspark.sql import SparkSession\n",
    "from functools import reduce"
   ]
  },
  {
   "cell_type": "markdown",
   "metadata": {},
   "source": [
    "### CLEANING FUNCTIONS"
   ]
  },
  {
   "cell_type": "code",
   "execution_count": 2,
   "metadata": {},
   "outputs": [],
   "source": [
    "''' This function takes as input the hdfs path of a csv and converts it into a spark dataframe '''\n",
    "def csv_to_sparkdf(csv_path):\n",
    "    # Create Spark Session\n",
    "    spark_session = (\n",
    "    SparkSession.builder.appName(\"SparkProfiling\")\n",
    "    .master(\"local[*]\")\n",
    "    .config(\"spark.executor.memory\", \"4g\")\n",
    "    .config(\"spark.driver.memory\", \"4g\")\n",
    "    .getOrCreate()\n",
    "    )\n",
    "    # Load the dataset in a spark dataframe\n",
    "    spark_df = spark_session.read.csv(csv_path, header=True, inferSchema=True)\n",
    "    return spark_df"
   ]
  },
  {
   "cell_type": "code",
   "execution_count": 3,
   "metadata": {},
   "outputs": [],
   "source": [
    "''' This function takes a spark dataframe as input and prints statistics on null values and duplicate rows '''\n",
    "def statistics(spark_df):\n",
    "    # Count null values for each columns\n",
    "    null_counts = spark_df.select([count(when(col(c).isNull(), c)).alias(c) for c in spark_df.columns])\n",
    "    # Count duplicates rows\n",
    "    duplicate_rows = spark_df.groupBy(spark_df.columns).count().filter(\"count > 1\")\n",
    "    duplicate_count = duplicate_rows.count()\n",
    "\n",
    "    null_counts.show()\n",
    "    print(f\"Number of duplicates rows: {duplicate_count}\")\n",
    "\n",
    "    # Show duplicate rows\n",
    "    if duplicate_count > 0:\n",
    "        print(\"Duplicate rows:\")\n",
    "        duplicate_rows.show(truncate=False) "
   ]
  },
  {
   "cell_type": "code",
   "execution_count": 5,
   "metadata": {},
   "outputs": [],
   "source": [
    "''' This function takes a spark dataframe as input and returns a 'clean' spark dataframe i.e. without\n",
    "    duplicate rows and rows with too many null values '''\n",
    "def cleaning(spark_df):\n",
    "    # Initial number of rows\n",
    "    initial_row_count = spark_df.count()\n",
    "    print(f\"Initial number of rows: {initial_row_count}\")\n",
    "\n",
    "    # Remove duplicate rows\n",
    "    new_spark_df = spark_df.dropDuplicates()\n",
    "    row_count_withoutDuplicates = new_spark_df.count()\n",
    "    print(f\"Remove duplicate rows: {initial_row_count - row_count_withoutDuplicates}\")\n",
    "\n",
    "\n",
    "    # Calculate the threshold of nulls for each row \n",
    "    # To delete even more lines, simply lower the threshold\n",
    "    threshold = len(new_spark_df.columns) / 2\n",
    "\n",
    "    # Create a temporary column to count null values per row\n",
    "    null_counts_expr = reduce(\n",
    "        lambda acc, c: acc + when(col(c).isNull(), 1).otherwise(0),\n",
    "        new_spark_df.columns,\n",
    "        lit(0)\n",
    "    )\n",
    "    spark_df_null = new_spark_df.withColumn(\"null_count\", null_counts_expr)\n",
    "\n",
    "    # Keep rows with less than the threshold (50%) of null values\n",
    "    filtered_df = spark_df_null.filter(col(\"null_count\") < threshold).drop(\"null_count\")\n",
    "    print(f\"Number of rows with null values removed: {row_count_withoutDuplicates - filtered_df.count()}\")\n",
    "\n",
    "\n",
    "    # Final number of rows\n",
    "    final_row_count = filtered_df.count()\n",
    "    print(f\"Final number of rows: {final_row_count}\")\n",
    "\n",
    "    # Number of removed rows\n",
    "    deleted_row_count = initial_row_count - final_row_count\n",
    "    print(f\"Number of removed rows: {deleted_row_count}\")\n",
    "\n",
    "    filtered_df.show(10)\n",
    "    return filtered_df"
   ]
  },
  {
   "cell_type": "code",
   "execution_count": 6,
   "metadata": {},
   "outputs": [],
   "source": [
    "''' This function takes a spark dataframe as input and stores it in a csv on hdfs '''\n",
    "def sparkdf_to_csv(spark_df):\n",
    "    # Hdfs path where you want to save the CSV file\n",
    "    output_path = \"/output/cleaned_datasets/\"\n",
    "    spark_df = spark_df.coalesce(1)\n",
    "    spark_df.write.csv(output_path, header=True)"
   ]
  },
  {
   "cell_type": "markdown",
   "metadata": {},
   "source": [
    "### CLEANING AIRLINE DATASET"
   ]
  },
  {
   "cell_type": "code",
   "execution_count": null,
   "metadata": {},
   "outputs": [],
   "source": [
    "spark_df = csv_to_sparkdf(\"/input/Airline.csv\")"
   ]
  },
  {
   "cell_type": "code",
   "execution_count": 9,
   "metadata": {},
   "outputs": [
    {
     "name": "stderr",
     "output_type": "stream",
     "text": [
      "[Stage 28:==============>                                           (1 + 3) / 4]\r"
     ]
    },
    {
     "name": "stdout",
     "output_type": "stream",
     "text": [
      "+------------+----------+---------+------+---+-----------+------------+--------------------+------------+-----------------+----------+--------------+---------------+----------+-------------+\n",
      "|Passenger ID|First Name|Last Name|Gender|Age|Nationality|Airport Name|Airport Country Code|Country Name|Airport Continent|Continents|Departure Date|Arrival Airport|Pilot Name|Flight Status|\n",
      "+------------+----------+---------+------+---+-----------+------------+--------------------+------------+-----------------+----------+--------------+---------------+----------+-------------+\n",
      "|           0|         0|        0|     0|  0|          0|           0|                   0|           0|                0|         0|             0|              0|         0|            0|\n",
      "+------------+----------+---------+------+---+-----------+------------+--------------------+------------+-----------------+----------+--------------+---------------+----------+-------------+\n",
      "\n"
     ]
    },
    {
     "name": "stderr",
     "output_type": "stream",
     "text": [
      "                                                                                \r"
     ]
    }
   ],
   "source": [
    "statistics(spark_df)"
   ]
  },
  {
   "cell_type": "markdown",
   "metadata": {},
   "source": [
    "### CLEANING BOOKS RATING DATASET"
   ]
  },
  {
   "cell_type": "code",
   "execution_count": 5,
   "metadata": {},
   "outputs": [
    {
     "name": "stderr",
     "output_type": "stream",
     "text": [
      "Setting default log level to \"WARN\".\n",
      "To adjust logging level use sc.setLogLevel(newLevel). For SparkR, use setLogLevel(newLevel).\n",
      "24/07/02 13:01:44 WARN NativeCodeLoader: Unable to load native-hadoop library for your platform... using builtin-java classes where applicable\n",
      "                                                                                \r"
     ]
    }
   ],
   "source": [
    "spark_df = csv_to_sparkdf(\"/input/Books_rating.csv\")"
   ]
  },
  {
   "cell_type": "code",
   "execution_count": 6,
   "metadata": {},
   "outputs": [
    {
     "name": "stderr",
     "output_type": "stream",
     "text": [
      "                                                                                \r"
     ]
    },
    {
     "name": "stdout",
     "output_type": "stream",
     "text": [
      "+---+-----+-------+-------+-----------+------------------+------------+-----------+--------------+-----------+\n",
      "| Id|Title|  Price|User_id|profileName|review/helpfulness|review/score|review/time|review/summary|review/text|\n",
      "+---+-----+-------+-------+-----------+------------------+------------+-----------+--------------+-----------+\n",
      "|  0|  208|2517579| 562250|     562200|               367|         130|         27|            65|         43|\n",
      "+---+-----+-------+-------+-----------+------------------+------------+-----------+--------------+-----------+\n",
      "\n",
      "Number of duplicates rows: 7793\n",
      "Duplicate rows:\n"
     ]
    },
    {
     "name": "stderr",
     "output_type": "stream",
     "text": [
      "                                                                                \r"
     ]
    },
    {
     "name": "stdout",
     "output_type": "stream",
     "text": [
      "+----------+----------------------------------------------------------------------------------------+-----+--------------+---------------------------------------------------+------------------+------------+-----------+----------------------------------------------------+-------------------------------------------------------------------------------------------------------------------------------------------------------------------------------------------------------------------------------------------------------------------------------------------------------------------------------------------------------------------------------------------------------------------------------------------------------------------------------------------------------------------------------------------------------------------------------------------------------------------------------------------------------------------------------------------------------------------------------------------------------------------------------------------------------------------------------------------------------------------------------------------------------------------------------------------------------------------------------------------------------------------------------------------------------------------------------------------------------------------------------------------------------------------------------------------------------------------------------------------------------------------------------------------------------------------------------------------------------------------------------------------------------------------------------------------------------------------------------------------------------------------------------------------------------------------------------------------------------------------------------------------------------------------------------------------------------------------------------------------------------------------------------------------------------------------------------------------------------------------------------------------------------------------------------------------------------------------------------------------------------------------------------------------------------------------------------------------------------------------------------------------------------------------------------------------------------------------------------------------------------------------------------------------------------------------------------------------------------------------------------------------------------------------------------------------------------------------------------------------------------------------------------------------------------------------------------------------------------------------------------------------+-----+\n",
      "|Id        |Title                                                                                   |Price|User_id       |profileName                                        |review/helpfulness|review/score|review/time|review/summary                                      |review/text                                                                                                                                                                                                                                                                                                                                                                                                                                                                                                                                                                                                                                                                                                                                                                                                                                                                                                                                                                                                                                                                                                                                                                                                                                                                                                                                                                                                                                                                                                                                                                                                                                                                                                                                                                                                                                                                                                                                                                                                                                                                                                                                                                                                                                                                                                                                                                                                                                                                                                                                                                                                                                |count|\n",
      "+----------+----------------------------------------------------------------------------------------+-----+--------------+---------------------------------------------------+------------------+------------+-----------+----------------------------------------------------+-------------------------------------------------------------------------------------------------------------------------------------------------------------------------------------------------------------------------------------------------------------------------------------------------------------------------------------------------------------------------------------------------------------------------------------------------------------------------------------------------------------------------------------------------------------------------------------------------------------------------------------------------------------------------------------------------------------------------------------------------------------------------------------------------------------------------------------------------------------------------------------------------------------------------------------------------------------------------------------------------------------------------------------------------------------------------------------------------------------------------------------------------------------------------------------------------------------------------------------------------------------------------------------------------------------------------------------------------------------------------------------------------------------------------------------------------------------------------------------------------------------------------------------------------------------------------------------------------------------------------------------------------------------------------------------------------------------------------------------------------------------------------------------------------------------------------------------------------------------------------------------------------------------------------------------------------------------------------------------------------------------------------------------------------------------------------------------------------------------------------------------------------------------------------------------------------------------------------------------------------------------------------------------------------------------------------------------------------------------------------------------------------------------------------------------------------------------------------------------------------------------------------------------------------------------------------------------------------------------------------------------------+-----+\n",
      "|B000TZ19TC|Fahrenheit 451                                                                          |NULL |NULL          |NULL                                               |0/0               |5.0         |1137456000 |Fahrenheit 451                                      |Possessing books is illegal, for which your house may burn. Guy Montag is a man in living in the near future and his occupation is a fireman, whose job it is to burn books. He grows sick of his the society and decides to see what is all about the books he burns. He sees another man in the city who enjoys books as well and they plan to bring them back into society. But after being forced to burn his own house, he commits murder and runs away. He flees to the outskirts of the city where there are retired philosophers and literaturists who help Montag. They watch as an atomic bomb destroy the city, then go and put their book knowledge to use. This book is excellent and very unique and is recommended to all readers.The plot and flow of this story is also interesting. It begins with Montag first meeting Clarisse who strikes him as an odd person. He then comes home to find his wife unconscious and overdosed on sleeping pills. He burns a lady and her house, and begins to read the books he steals from the homes. After seeking help from a retired professor, Montag is forced to burn his own house. There he commits murder, which sends him on the run from the city. Outside the city, he witnesses it being destroyed by an atomic bomb.Fahrenheit 451 is a very interesting story because of the unique setting. It is set in the near future in a modern city, but with a much different type of society. Thought they do not realize it, everyone seems to be depressed, compared to real modern society. The setting is also interesting because of the censorship at full extent. With houses being fireproof, firemen's new job is too set them ablaze. With no books, the true facts a completely unknown to the public, with false facts like Benjamin Franklin began the Firehouse and that houses have always been fireproof.The characters are also interesting. Guy Montag is the lone person he knows who reads books, though he burns them and makes no sense of them. Beatty is an ironic man. Though he is big on burning books and how useless they are, it is obvious he reads them as well because he is a rather cunning intellectual and is able to manipulate almost anybody effortlessly. Another unique person is Clarisse McClellan. She is what one in their society might call an antisocial figure because of her odd habits and strange curiosityThis book is a must read, with such realistic settings and people. It almost seems like a real event, which took place in the past. This book is indeed unique and the best among all the novels.I.Leung(Vin)|2    |\n",
      "|B000NWU3I4|The Hobbitt, or there and back again; illustrated by the author.                        |NULL |NULL          |NULL                                               |0/1               |4.0         |1130284800 |THE HOBBIT                                          |\"I thought that the Hobbit was a very good book. It wasnt only a book that teenagers would read but also older adults. It had a lot of adventure and good description.The book is about a hobbit named Bilbo Bagins who is visited by a great wizard named Gandalf. Then the next day twelve dwarves show up at Bilbo's hobbit home. the dwarves want him to be their \"\"Burglar\"\".They go on a lot of adventures including going to rob Smaug the dragon of his treasures. Another adventure is how he gets this ring witih magical powers.If you liked the \"\"Lord of the Ring\"\" series you would love to read this book which happens before the Lord of the Rings.\"                                                                                                                                                                                                                                                                                                                                                                                                                                                                                                                                                                                                                                                                                                                                                                                                                                                                                                                                                                                                                                                                                                                                                                                                                                                                                                                                                                                                                                                                                                                                                                                                                                                                                                                                                                                                                                                                                                                                                                      |2    |\n",
      "|B000OV8EMQ|The Princess Bride                                                                      |NULL |NULL          |NULL                                               |0/0               |5.0         |921715200  |Two thumbs way way up for &quot;Princess Bride&quot;|This book is a supreme example about how men should act now-a-days! If your looking for love, adventure, and a story that will stay with you long after you turn the last page, then this story is for you! I know it ALL by heart!                                                                                                                                                                                                                                                                                                                                                                                                                                                                                                                                                                                                                                                                                                                                                                                                                                                                                                                                                                                                                                                                                                                                                                                                                                                                                                                                                                                                                                                                                                                                                                                                                                                                                                                                                                                                                                                                                                                                                                                                                                                                                                                                                                                                                                                                                                                                                                                                        |2    |\n",
      "|B0006A011C|Ransom                                                                                  |NULL |ASKSH6CLNWRV9 |\"CrazedReader9 \"\"Reading anything and everythin...\"|3/3               |5.0         |1115769600 |This is Garwood's Best by far!                      |Ransom continues the Highland clans tale of the Maitlands and the connected clans. This is the story of Brodick and Ramsey but leans less toward bodice-ripping romance and more toward the interaction of the characters and the developing relationship between Brodick and his soon-to-be bride. The 'escapism' part for me by far are the heroics of the Highlanders and the undying loyalty toward the English woman who protects a small child. You will love this book and you may laugh outloud when you read it. This is the best Garwood and the best of this series. She turns what could be 'trash' romance into a real story that you become involved in, with a plot that you may indeed know the outcome of ahead of time, but you will love getting there! It's a great read! If you enjoyed Kathleen Woodiwiss when you were younger or Jude Devereaux, pick up Garwood. She's fabulous!                                                                                                                                                                                                                                                                                                                                                                                                                                                                                                                                                                                                                                                                                                                                                                                                                                                                                                                                                                                                                                                                                                                                                                                                                                                                                                                                                                                                                                                                                                                                                                                                                                                                                                                                  |2    |\n",
      "|1576467449|Great Expectations                                                                      |14.95|NULL          |NULL                                               |0/0               |4.0         |987984000  |Just Great!                                         |Great Expectaitons by Charles Dickens is a good book. I recommend to anyone who enjoys reading realistic fiction books. It captures you from the second you open the book wntil you put it down. It has humor, action, and romance in it. I enjoyed reading it beacse the plot was good as well and the character's personalities.                                                                                                                                                                                                                                                                                                                                                                                                                                                                                                                                                                                                                                                                                                                                                                                                                                                                                                                                                                                                                                                                                                                                                                                                                                                                                                                                                                                                                                                                                                                                                                                                                                                                                                                                                                                                                                                                                                                                                                                                                                                                                                                                                                                                                                                                                                         |2    |\n",
      "|0943069165|Witch of Blackbird Pond (Bookwise Guide)                                                |NULL |NULL          |NULL                                               |0/0               |5.0         |976579200  |Girl's That Like Romance Novels Read This Book      |Witch of Blackbird Pond is about a girl who comes from Barbados to Massacchusetts because her Grandfather dies. She is going to stay with her Aunt Rachel and her family . She rides on a boat called the Dolphin where she meets a lot of people . Also everyone thinks she is a witch! It is mixed with romance and historical fiction. You may not want to put it down. I loved it all the way through and you might too!                                                                                                                                                                                                                                                                                                                                                                                                                                                                                                                                                                                                                                                                                                                                                                                                                                                                                                                                                                                                                                                                                                                                                                                                                                                                                                                                                                                                                                                                                                                                                                                                                                                                                                                                                                                                                                                                                                                                                                                                                                                                                                                                                                                                               |2    |\n",
      "|B0007GZPJI|Lord of the flies                                                                       |NULL |NULL          |NULL                                               |0/0               |4.0         |1112918400 |good book                                           |Lord of the Flies is a good book overall. There is a little brain power used by the island people, but the primal instinct of killing overcame most of the islanders. There was only one thing the book was missing: cannibals. It would have been better if they had resorted to cannibalism. I personally liked Jack the best. He represents the primal evil in all humans.                                                                                                                                                                                                                                                                                                                                                                                                                                                                                                                                                                                                                                                                                                                                                                                                                                                                                                                                                                                                                                                                                                                                                                                                                                                                                                                                                                                                                                                                                                                                                                                                                                                                                                                                                                                                                                                                                                                                                                                                                                                                                                                                                                                                                                                              |2    |\n",
      "|B0007K33F2|Monte Cristo,                                                                           |NULL |NULL          |NULL                                               |0/0               |5.0         |897004800  |The best book ever.                                 |This book, The Count of Monte-Cristo, is by far the best, and most intriuging novels I have ever read. The first copy I read, was unabridged, and it enthralled me so that I couldn't put it down. I finished reading it exactly one week later (I started on a Monday; finished on the following Monday), for I could not set it down. Dantes, Villefort, Danglars, Mondego et al, were the most intresting characters ever have I found in my fifteen years of reading. This book was certianly Dumas' coup de grace.                                                                                                                                                                                                                                                                                                                                                                                                                                                                                                                                                                                                                                                                                                                                                                                                                                                                                                                                                                                                                                                                                                                                                                                                                                                                                                                                                                                                                                                                                                                                                                                                                                                                                                                                                                                                                                                                                                                                                                                                                                                                                                                    |2    |\n",
      "|B000NWU3I4|The Hobbitt, or there and back again; illustrated by the author.                        |NULL |NULL          |NULL                                               |0/0               |4.0         |925862400  |A very imaginative and suspenseful book!            |I have to admit, I would have never given the Hobbit a chance if I hadn't been assigned a book report in which I'd have to read a fantasy book. I wasn't very familiar with fantasy books, so my teacher suggested to me the Hobbit, promising that I'd never want to put it down. Sure enough, she was right. As I read into the book, I was amazed at the descriptive words and adventurous plot! Because the beginning and closing dragged on quite a bit, I rated this book a four star. Overall, the book was one of a kind!                                                                                                                                                                                                                                                                                                                                                                                                                                                                                                                                                                                                                                                                                                                                                                                                                                                                                                                                                                                                                                                                                                                                                                                                                                                                                                                                                                                                                                                                                                                                                                                                                                                                                                                                                                                                                                                                                                                                                                                                                                                                                                          |2    |\n",
      "|0613176375|The Great Hunt (Turtleback School & Library Binding Edition) (The Wheel of Time, Book 2)|13.80|A1H1TLPZG5SZVV|\"Sheryl K. Todd \"\"American Lit teacher\"\"\"          |0/0               |5.0         |1045612800 |Jordan is the Master                                |If you read Book One, then no doubt you are tempted to read Book II. Don't delay. It's just as good as the first and the scandals and plots get thicker. In this book we learn more about the various Ajahs of the Aeis Sadai and we visit the White Tower at long last. Can't say anymore......Don't want to ruin anything for you, but you are in for some real surprises.                                                                                                                                                                                                                                                                                                                                                                                                                                                                                                                                                                                                                                                                                                                                                                                                                                                                                                                                                                                                                                                                                                                                                                                                                                                                                                                                                                                                                                                                                                                                                                                                                                                                                                                                                                                                                                                                                                                                                                                                                                                                                                                                                                                                                                                               |2    |\n",
      "|067155137X|The Chosen (Night World)                                                                |NULL |NULL          |NULL                                               |0/0               |5.0         |880502400  |L.J.Smith works at one of her best                  |This was grreeaaatttt!!! Now I love Quinn(I change every book)I loved that she put all this enerygy stuff and what masters hadsaid as it was intersting Email for a chat We need to make our own channel!!! on irc!! NNOOOOWWWW                                                                                                                                                                                                                                                                                                                                                                                                                                                                                                                                                                                                                                                                                                                                                                                                                                                                                                                                                                                                                                                                                                                                                                                                                                                                                                                                                                                                                                                                                                                                                                                                                                                                                                                                                                                                                                                                                                                                                                                                                                                                                                                                                                                                                                                                                                                                                                                                            |2    |\n",
      "|B000I3JBUO|One Hundred Years of Solitude                                                           |NULL |NULL          |NULL                                               |0/0               |5.0         |869702400  |Total.                                              |A rare book in that it is complete. I thought once that novels only served to reflect humanity's incapability to fully express itself. This novel proves otherwise. It is full like some narcotic sex liqueur, staying with you for several lifetimes. And it is solid, fluid, prose poetry. And it is tragic and fantastic and comic and real. A text of religious importance in that it reflects all that is strong and all that is weak and all that is human--it is wit and blood and infinite, melancholy joy                                                                                                                                                                                                                                                                                                                                                                                                                                                                                                                                                                                                                                                                                                                                                                                                                                                                                                                                                                                                                                                                                                                                                                                                                                                                                                                                                                                                                                                                                                                                                                                                                                                                                                                                                                                                                                                                                                                                                                                                                                                                                                                         |2    |\n",
      "|1596009772|Alice's Adventures in Wonderland and Through the Looking Glass (Classic Collection)     |NULL |A20Q1QPPE4THAI|Humpty Dumpty                                      |0/0               |5.0         |1141171200 |How Far Down Does the Rabbit Hole Go?               |The books Alices adventures in Wonderland & Through the Looking-Glass are both very good books. The main plot of both books is quite simple; a girl named Alice stumbles upon another world filled with many different characters as she explores and meets many people and creatures alike. Overall, I found the book very solid and interesting. The endings are a little lacking in my opinion, but the ride there makes up for it. Its filled with many different perspectives on many different things, some are very insightful while some are just silly. At some points, it will have you thinking while at others you'll find yourself laughing up a storm. This is what makes it great for kids and adults alike. The books are also very easy to relate to, not literally but in its theme: being thrown into something new and trying to fit in. Everyone's been there at some point in their life, just not to the extent of Wonderland and the Looking-Glass World. The book also teaches a good lesson of thinking before you speak. Often times Alice would say what's on her mind and offends her new friends, which isn't a good when your in a new world and don't know anyone. Overall, The Adventures of Alice in Wonderland & Through the Looking-Glass are a must read for everyone, even if you're illiterate (most copies of the book have illustrations, but if you're illiterate, how are you reading this?). So head on out to your local library and pick it up, you wont regret it.                                                                                                                                                                                                                                                                                                                                                                                                                                                                                                                                                                                                                                                                                                                                                                                                                                                                                                                                                                                                                                                                                                                          |2    |\n",
      "|0140860096|Of Mice and Men (Penguin Audiobooks)                                                    |NULL |AH9NAQPW1TTC4 |Brittany Craul                                     |0/0               |4.0         |1039219200 |Of Mice and Men Book Review                         |Of Mice and Men is a book that draws you into a world many people have yet to experience. This book takes place in the 1930's in southern California on a ranch where migrant workerstravel to in order to harvest wheat and then move on. George and Lennie are two of these workers and travel to ranches as a team. George takes care of Lennie and looks after him because Lennie suffers from mental disorders. They become best friends even though George believes life would be easier without Lennie. Tough choices have to be made in order to keep everyone safe and George has to decide what a true friend would do in circumstances no one would want to face. The story talks of unreachable dreams and aspirations, something we can all relate to. The ending of the story has a surprise twist to it that will make you think and cause you to reevaluate what atrue friend is.                                                                                                                                                                                                                                                                                                                                                                                                                                                                                                                                                                                                                                                                                                                                                                                                                                                                                                                                                                                                                                                                                                                                                                                                                                                                                                                                                                                                                                                                                                                                                                                                                                                                                                                                          |2    |\n",
      "|B000L6Q9ZS|The Stranger                                                                            |NULL |AH73M5QT167E5 |sarah                                              |0/0               |4.0         |951782400  |Why I Liked The Stranger                            |I had to read The Stranger by Albert Camus for my IB English class. Our teacher told us that it would be somewhat boring, but to his contrary it was not boring at all! I started reading it, and to tell you truth, I thought it was boring. I mean who wants to read about a man who is not going to show any type of emotion. Towards the end of the first part of the book it started to interest me. I had never read anything that used that perspective of writing. Through Meursalt, the main character, Camus displays his feelings toward our society and how it functions. This book is supposed to be satirical to the way society is . At the end of the book, Meursalt and the reader know why the world is the way it is. &quot;I opened myself up to the gentle indifference of the world.&quot; All together The Stranger was a good book, that discribed one man's journey into the absurd.                                                                                                                                                                                                                                                                                                                                                                                                                                                                                                                                                                                                                                                                                                                                                                                                                                                                                                                                                                                                                                                                                                                                                                                                                                                                                                                                                                                                                                                                                                                                                                                                                                                                                                                              |2    |\n",
      "|067088863X|Soldier X                                                                               |NULL |NULL          |NULL                                               |0/0               |5.0         |1110499200 |it is to good to explain                            |\"Summary \"\"Soldier X\"\" is about a boy named Erik Brandt who is sixteen. When he is drafted to the Hitler's army he must kill or be killed in world war 2.When his fleet is defeated in the front line he is the only one alive wounded he puts on Russian clothes and cared for at a hospital now he must act like a Russian and not be found out. The book gives you very good visual of the war. It makes the people sound real. The book has very good details.\"                                                                                                                                                                                                                                                                                                                                                                                                                                                                                                                                                                                                                                                                                                                                                                                                                                                                                                                                                                                                                                                                                                                                                                                                                                                                                                                                                                                                                                                                                                                                                                                                                                                                                                                                                                                                                                                                                                                                                                                                                                                                                                                                                                        |3    |\n",
      "|0821771213|To Die For                                                                              |NULL |NULL          |NULL                                               |0/1               |5.0         |1039737600 |A Sizzling Winner!                                  |I just finished To Die For, and wow, am I impressed! I so love dark stories and the sex had ME sizzling. The hero, Stefan was the perfect alpha male, and the suspense was wonderfully done. Never would have guessed the killer. Abby's sister, Micki, was remarkable! Loved her earthy, gritty personality. I think she deserves a book of her own! LOL! I think Ms George has an incredible talent for contemps, and I'm crossing my fingers that she'll reward us with many more. Bravo, Ms George! Keep 'em coming!                                                                                                                                                                                                                                                                                                                                                                                                                                                                                                                                                                                                                                                                                                                                                                                                                                                                                                                                                                                                                                                                                                                                                                                                                                                                                                                                                                                                                                                                                                                                                                                                                                                                                                                                                                                                                                                                                                                                                                                                                                                                                                                   |2    |\n",
      "|B000P1QRII|The Giver                                                                               |NULL |A3SCXHDWVW6JD6|Arielle M. Dundas                                  |0/0               |5.0         |976579200  |Great book, one of the best books ever written      |Fantasic book about a community in some place and time other than here and now. About the life in a community with no pain or suffering yet with no emotions no love. Lois Lowry is a genius, although much of her book contains ideas from other books (1984, the bible) she is great storyteller. Anyway isn't that what a genius is, someone who takes something old and makes something new. Heart wrenching tale. The only pain I get from this book is I have heard that Lois Lowry has signed movie rights over for it and I do not believe any good will come of that.                                                                                                                                                                                                                                                                                                                                                                                                                                                                                                                                                                                                                                                                                                                                                                                                                                                                                                                                                                                                                                                                                                                                                                                                                                                                                                                                                                                                                                                                                                                                                                                                                                                                                                                                                                                                                                                                                                                                                                                                                                                             |2    |\n",
      "|1593351100|Blood of the Fold (Sword of Truth Series)                                               |NULL |NULL          |NULL                                               |0/0               |5.0         |919382400  |It's too good to let go!                            |Once again Terry Goodkind had written a magnificent book. Continuing from the previous volume, Stone of Tears, Blood of the Fold told a great story. In this book, new characters were developed to take the place of old, evil, and dead characters. In addition, I liked the way where Terry Goodkind added several female characters around Richard. This seemed to attract my attention and made me want to know how Richard will handle these women. The only thing I can say about this book is that it's too short.                                                                                                                                                                                                                                                                                                                                                                                                                                                                                                                                                                                                                                                                                                                                                                                                                                                                                                                                                                                                                                                                                                                                                                                                                                                                                                                                                                                                                                                                                                                                                                                                                                                                                                                                                                                                                                                                                                                                                                                                                                                                                                                 |2    |\n",
      "|0681994851|Jane Eyre                                                                               |NULL |NULL          |NULL                                               |0/0               |5.0         |1003708800 |!!!!!!!                                             |This is probably one of my top ten fave books of all time. The love story in it was (in my opinion) very intense a lot of the time (the part where she comes back just kills me every time). I can understand how you would not like this book if you don't like cheesy love stories (and, trust me, the ending is VERY cheesy) but it's just a wonderful book in all. The parts where Jane is not with Rochester can be tedious sometimes but, fortunately, since I've read it, I can skip those parts and just read the good ones. When Jane leaves Rochester, Bronte describes it in such a way that it makes the reader feel as if they were leaveng their one true love. The only thing that gets me is the age difference between Rochester and Jane but I don't stress over it. I recommend this book to anyone who needs a good romantic pick-me-up.                                                                                                                                                                                                                                                                                                                                                                                                                                                                                                                                                                                                                                                                                                                                                                                                                                                                                                                                                                                                                                                                                                                                                                                                                                                                                                                                                                                                                                                                                                                                                                                                                                                                                                                                                                               |2    |\n",
      "+----------+----------------------------------------------------------------------------------------+-----+--------------+---------------------------------------------------+------------------+------------+-----------+----------------------------------------------------+-------------------------------------------------------------------------------------------------------------------------------------------------------------------------------------------------------------------------------------------------------------------------------------------------------------------------------------------------------------------------------------------------------------------------------------------------------------------------------------------------------------------------------------------------------------------------------------------------------------------------------------------------------------------------------------------------------------------------------------------------------------------------------------------------------------------------------------------------------------------------------------------------------------------------------------------------------------------------------------------------------------------------------------------------------------------------------------------------------------------------------------------------------------------------------------------------------------------------------------------------------------------------------------------------------------------------------------------------------------------------------------------------------------------------------------------------------------------------------------------------------------------------------------------------------------------------------------------------------------------------------------------------------------------------------------------------------------------------------------------------------------------------------------------------------------------------------------------------------------------------------------------------------------------------------------------------------------------------------------------------------------------------------------------------------------------------------------------------------------------------------------------------------------------------------------------------------------------------------------------------------------------------------------------------------------------------------------------------------------------------------------------------------------------------------------------------------------------------------------------------------------------------------------------------------------------------------------------------------------------------------------------+-----+\n",
      "only showing top 20 rows\n",
      "\n"
     ]
    }
   ],
   "source": [
    "statistics(spark_df)"
   ]
  },
  {
   "cell_type": "code",
   "execution_count": 7,
   "metadata": {},
   "outputs": [
    {
     "name": "stderr",
     "output_type": "stream",
     "text": [
      "                                                                                \r"
     ]
    },
    {
     "name": "stdout",
     "output_type": "stream",
     "text": [
      "Numero iniziale di righe: 3000000\n"
     ]
    },
    {
     "name": "stderr",
     "output_type": "stream",
     "text": [
      "                                                                                \r"
     ]
    },
    {
     "name": "stdout",
     "output_type": "stream",
     "text": [
      "Numero di righe duplicate eliminate: 8865\n"
     ]
    },
    {
     "name": "stderr",
     "output_type": "stream",
     "text": [
      "                                                                                \r"
     ]
    },
    {
     "name": "stdout",
     "output_type": "stream",
     "text": [
      "Numero di righe con valori nulli eliminate: 13\n"
     ]
    },
    {
     "name": "stderr",
     "output_type": "stream",
     "text": [
      "                                                                                \r"
     ]
    },
    {
     "name": "stdout",
     "output_type": "stream",
     "text": [
      "Numero finale di righe: 2991122\n",
      "Numero di righe eliminate: 8878\n"
     ]
    },
    {
     "name": "stderr",
     "output_type": "stream",
     "text": [
      "[Stage 37:>                                                         (0 + 1) / 1]\r"
     ]
    },
    {
     "name": "stdout",
     "output_type": "stream",
     "text": [
      "+----------+--------------------+-----+--------------+--------------------+------------------+------------+-----------+--------------------+--------------------+\n",
      "|        Id|               Title|Price|       User_id|         profileName|review/helpfulness|review/score|review/time|      review/summary|         review/text|\n",
      "+----------+--------------------+-----+--------------+--------------------+------------------+------------+-----------+--------------------+--------------------+\n",
      "|0595129463|Marshall Hollenze...|12.95|A39OBC2D154CCU|  Elizabeth Bookspan|               1/1|         5.0|  987897600|You Won't Be Able...|Marshall Hollenze...|\n",
      "|0679751254|Lenin's Tomb: The...|12.11|A3PHHV3UJAUP8B|  \"mobuto \"\"-----\"\"\"|               3/5|         5.0|  984873600|  Soviet Tocqueville|Remnick writes el...|\n",
      "|0919345476|The Witches' God:...|16.75| ASH2T0XFJFLPQ|        John Culloty|               6/6|         5.0| 1011139200|A Primer of Pagan...|This book provide...|\n",
      "|0833025147|In Athena's Camp:...|36.00| AHZE4E3Q691ME| \"G. Mitchell \"\".\"\"\"|             10/10|         4.0|  965520000|A theoretical loo...|This book tackles...|\n",
      "|0897501225|Small-Circle Jujitsu|12.21|A3RQ453MNA2DIP|       J. Sunderland|               0/0|         5.0| 1290038400|                Nice|This book has goo...|\n",
      "|157856137X|A Match Made in H...|15.99|A1CHUXZWF8SF9R|   EBowers95@aol.com|               3/3|         5.0|  936316800|I actually laughe...|I throughly enjoy...|\n",
      "|0439399629|The Pledge of All...| 5.39|A28U80Z0NRUHJR|\"Rex Curry \"\"RexC...|               1/4|         5.0| 1076112000|The Pledge of All...|Very well-written...|\n",
      "|1419123548|             Herland|17.12|A3G0CNNZD2PIRN|          J. Brossia|               0/2|         1.0| 1345507200|Quite possibly, t...|\"This was assigne...|\n",
      "|1561583677|Tablesaw Methods ...|10.36|A36WW4R8V6P7I5|\"T. Stout \"\"scurr...|               0/0|         5.0| 1102550400|An absolute must ...|Without a doubt o...|\n",
      "|0684813483|The Pie and Pastr...|31.50|A1FYG9QCF32X63|\"Eileen Voss \"\"Ma...|               6/7|         5.0|  931996800|If baking is your...|Having heard Rose...|\n",
      "+----------+--------------------+-----+--------------+--------------------+------------------+------------+-----------+--------------------+--------------------+\n",
      "only showing top 10 rows\n",
      "\n"
     ]
    },
    {
     "name": "stderr",
     "output_type": "stream",
     "text": [
      "                                                                                \r"
     ]
    }
   ],
   "source": [
    "filtered_df = cleaning(spark_df)"
   ]
  },
  {
   "cell_type": "code",
   "execution_count": 12,
   "metadata": {},
   "outputs": [
    {
     "name": "stderr",
     "output_type": "stream",
     "text": [
      "                                                                                \r"
     ]
    }
   ],
   "source": [
    "sparkdf_to_csv(filtered_df)"
   ]
  },
  {
   "cell_type": "markdown",
   "metadata": {},
   "source": [
    "### CLEANING LONDON DATASET"
   ]
  },
  {
   "cell_type": "code",
   "execution_count": 6,
   "metadata": {},
   "outputs": [
    {
     "name": "stderr",
     "output_type": "stream",
     "text": [
      "Setting default log level to \"WARN\".\n",
      "To adjust logging level use sc.setLogLevel(newLevel). For SparkR, use setLogLevel(newLevel).\n",
      "24/07/04 08:42:13 WARN NativeCodeLoader: Unable to load native-hadoop library for your platform... using builtin-java classes where applicable\n",
      "                                                                                \r"
     ]
    }
   ],
   "source": [
    "spark_df = csv_to_sparkdf(\"/input/london.csv\")"
   ]
  },
  {
   "cell_type": "code",
   "execution_count": 7,
   "metadata": {},
   "outputs": [
    {
     "name": "stderr",
     "output_type": "stream",
     "text": [
      "[Stage 8:====================================================>    (35 + 3) / 38]\r"
     ]
    },
    {
     "name": "stdout",
     "output_type": "stream",
     "text": [
      "+---------+--------+-------+--------------------+--------------+----------------+----------------------+----------------+------------------+\n",
      "|rental_id|duration|bike_id|end_rental_date_time|end_station_id|end_station_name|start_rental_date_time|start_station_id|start_station_name|\n",
      "+---------+--------+-------+--------------------+--------------+----------------+----------------------+----------------+------------------+\n",
      "|        0|   67617|     17|               67617|         68213|           68213|                     0|               0|                 0|\n",
      "+---------+--------+-------+--------------------+--------------+----------------+----------------------+----------------+------------------+\n",
      "\n",
      "Number of duplicates rows: 0\n"
     ]
    },
    {
     "name": "stderr",
     "output_type": "stream",
     "text": [
      "                                                                                \r"
     ]
    }
   ],
   "source": [
    "statistics(spark_df)"
   ]
  },
  {
   "cell_type": "code",
   "execution_count": 14,
   "metadata": {},
   "outputs": [
    {
     "name": "stderr",
     "output_type": "stream",
     "text": [
      "                                                                                \r"
     ]
    },
    {
     "name": "stdout",
     "output_type": "stream",
     "text": [
      "Initial number of rows: 38215560\n"
     ]
    },
    {
     "name": "stderr",
     "output_type": "stream",
     "text": [
      "                                                                                \r"
     ]
    },
    {
     "name": "stdout",
     "output_type": "stream",
     "text": [
      "Remove duplicate rows: 0\n"
     ]
    },
    {
     "name": "stderr",
     "output_type": "stream",
     "text": [
      "                                                                                \r"
     ]
    },
    {
     "name": "stdout",
     "output_type": "stream",
     "text": [
      "Number of rows with null values removed: 67548\n"
     ]
    },
    {
     "name": "stderr",
     "output_type": "stream",
     "text": [
      "                                                                                \r"
     ]
    },
    {
     "name": "stdout",
     "output_type": "stream",
     "text": [
      "Final number of rows: 38148012\n",
      "Number of removed rows: 67548\n"
     ]
    },
    {
     "name": "stderr",
     "output_type": "stream",
     "text": [
      "[Stage 62:=====================================================>  (36 + 2) / 38]\r"
     ]
    },
    {
     "name": "stdout",
     "output_type": "stream",
     "text": [
      "+---------+--------+-------+--------------------+--------------+--------------------+----------------------+----------------+--------------------+\n",
      "|rental_id|duration|bike_id|end_rental_date_time|end_station_id|    end_station_name|start_rental_date_time|start_station_id|  start_station_name|\n",
      "+---------+--------+-------+--------------------+--------------+--------------------+----------------------+----------------+--------------------+\n",
      "| 61344038|   420.0|13932.0| 2016-12-28 07:45:00|         815.0|Lambeth Palace Ro...|   2016-12-28 07:38:00|             152|Hampton Street, W...|\n",
      "| 61344158|   360.0|  590.0| 2016-12-28 07:59:00|         746.0|Lots Road, West C...|   2016-12-28 07:53:00|             737|Fulham Broadway, ...|\n",
      "| 61344288|  1140.0| 7057.0| 2016-12-28 08:27:00|         217.0|Wormwood Street, ...|   2016-12-28 08:08:00|              65|Gower Place , Euston|\n",
      "| 61344374|  1380.0|12923.0| 2016-12-28 08:39:00|         160.0|Waterloo Place, S...|   2016-12-28 08:16:00|             710|Albert Bridge Roa...|\n",
      "| 61344673|   480.0| 6637.0| 2016-12-28 08:46:00|         101.0|Queen Street 1, Bank|   2016-12-28 08:38:00|             321|Bermondsey Street...|\n",
      "| 61344740|   360.0|  695.0| 2016-12-28 08:49:00|         573.0|Limerston Street,...|   2016-12-28 08:43:00|             219|Bramham Gardens, ...|\n",
      "| 61345274|  1020.0| 1054.0| 2016-12-28 09:38:00|         431.0|Crinan Street, Ki...|   2016-12-28 09:21:00|             119|Bath Street, St. ...|\n",
      "| 61345448|  4200.0|12484.0| 2016-12-28 10:45:00|         468.0|  Cantrell Road, Bow|   2016-12-28 09:35:00|             468|  Cantrell Road, Bow|\n",
      "| 61345732|   720.0|11901.0| 2016-12-28 10:09:00|          14.0|Belgrove Street ,...|   2016-12-28 09:57:00|             581|New Cavendish Str...|\n",
      "| 61345988|   420.0| 1888.0| 2016-12-28 10:26:00|         174.0|      Strand, Strand|   2016-12-28 10:19:00|             264|Tysoe Street, Cle...|\n",
      "+---------+--------+-------+--------------------+--------------+--------------------+----------------------+----------------+--------------------+\n",
      "only showing top 10 rows\n",
      "\n"
     ]
    },
    {
     "name": "stderr",
     "output_type": "stream",
     "text": [
      "                                                                                \r"
     ]
    }
   ],
   "source": [
    "filtered_df = cleaning(spark_df)"
   ]
  },
  {
   "cell_type": "code",
   "execution_count": 15,
   "metadata": {},
   "outputs": [
    {
     "name": "stderr",
     "output_type": "stream",
     "text": [
      "                                                                                \r"
     ]
    }
   ],
   "source": [
    "sparkdf_to_csv(filtered_df)"
   ]
  },
  {
   "cell_type": "markdown",
   "metadata": {},
   "source": [
    "### CLEANING TITLES DATASET"
   ]
  },
  {
   "cell_type": "code",
   "execution_count": 7,
   "metadata": {},
   "outputs": [
    {
     "name": "stderr",
     "output_type": "stream",
     "text": [
      "Setting default log level to \"WARN\".\n",
      "To adjust logging level use sc.setLogLevel(newLevel). For SparkR, use setLogLevel(newLevel).\n",
      "24/07/04 17:29:48 WARN NativeCodeLoader: Unable to load native-hadoop library for your platform... using builtin-java classes where applicable\n",
      "24/07/04 17:29:52 WARN Utils: Service 'SparkUI' could not bind on port 4040. Attempting port 4041.\n",
      "                                                                                \r"
     ]
    }
   ],
   "source": [
    "spark_df = csv_to_sparkdf(\"/input/dirty_titles.csv\")"
   ]
  },
  {
   "cell_type": "code",
   "execution_count": 8,
   "metadata": {},
   "outputs": [
    {
     "name": "stderr",
     "output_type": "stream",
     "text": [
      "24/07/04 17:33:01 WARN RowBasedKeyValueBatch: Calling spill() on RowBasedKeyValueBatch. Will not spill but return 0.\n",
      "24/07/04 17:33:02 WARN RowBasedKeyValueBatch: Calling spill() on RowBasedKeyValueBatch. Will not spill but return 0.\n",
      "24/07/04 17:33:02 WARN RowBasedKeyValueBatch: Calling spill() on RowBasedKeyValueBatch. Will not spill but return 0.\n",
      "24/07/04 17:33:02 WARN RowBasedKeyValueBatch: Calling spill() on RowBasedKeyValueBatch. Will not spill but return 0.\n",
      "24/07/04 17:33:02 WARN RowBasedKeyValueBatch: Calling spill() on RowBasedKeyValueBatch. Will not spill but return 0.\n",
      "24/07/04 17:33:02 WARN RowBasedKeyValueBatch: Calling spill() on RowBasedKeyValueBatch. Will not spill but return 0.\n",
      "24/07/04 17:33:02 WARN RowBasedKeyValueBatch: Calling spill() on RowBasedKeyValueBatch. Will not spill but return 0.\n",
      "24/07/04 17:33:03 WARN RowBasedKeyValueBatch: Calling spill() on RowBasedKeyValueBatch. Will not spill but return 0.\n",
      "24/07/04 17:33:03 WARN RowBasedKeyValueBatch: Calling spill() on RowBasedKeyValueBatch. Will not spill but return 0.\n",
      "24/07/04 17:33:03 WARN RowBasedKeyValueBatch: Calling spill() on RowBasedKeyValueBatch. Will not spill but return 0.\n",
      "24/07/04 17:33:03 WARN RowBasedKeyValueBatch: Calling spill() on RowBasedKeyValueBatch. Will not spill but return 0.\n",
      "24/07/04 17:33:03 WARN RowBasedKeyValueBatch: Calling spill() on RowBasedKeyValueBatch. Will not spill but return 0.\n",
      "24/07/04 17:33:03 WARN RowBasedKeyValueBatch: Calling spill() on RowBasedKeyValueBatch. Will not spill but return 0.\n",
      "24/07/04 17:33:03 WARN RowBasedKeyValueBatch: Calling spill() on RowBasedKeyValueBatch. Will not spill but return 0.\n",
      "24/07/04 17:33:04 WARN RowBasedKeyValueBatch: Calling spill() on RowBasedKeyValueBatch. Will not spill but return 0.\n",
      "24/07/04 17:33:04 WARN RowBasedKeyValueBatch: Calling spill() on RowBasedKeyValueBatch. Will not spill but return 0.\n",
      "24/07/04 17:34:21 WARN RowBasedKeyValueBatch: Calling spill() on RowBasedKeyValueBatch. Will not spill but return 0.\n",
      "24/07/04 17:34:21 WARN RowBasedKeyValueBatch: Calling spill() on RowBasedKeyValueBatch. Will not spill but return 0.\n",
      "24/07/04 17:34:21 WARN RowBasedKeyValueBatch: Calling spill() on RowBasedKeyValueBatch. Will not spill but return 0.\n",
      "24/07/04 17:34:21 WARN RowBasedKeyValueBatch: Calling spill() on RowBasedKeyValueBatch. Will not spill but return 0.\n",
      "24/07/04 17:34:22 WARN RowBasedKeyValueBatch: Calling spill() on RowBasedKeyValueBatch. Will not spill but return 0.\n",
      "24/07/04 17:34:22 WARN RowBasedKeyValueBatch: Calling spill() on RowBasedKeyValueBatch. Will not spill but return 0.\n",
      "24/07/04 17:34:22 WARN RowBasedKeyValueBatch: Calling spill() on RowBasedKeyValueBatch. Will not spill but return 0.\n",
      "24/07/04 17:34:22 WARN RowBasedKeyValueBatch: Calling spill() on RowBasedKeyValueBatch. Will not spill but return 0.\n",
      "24/07/04 17:34:22 WARN RowBasedKeyValueBatch: Calling spill() on RowBasedKeyValueBatch. Will not spill but return 0.\n",
      "24/07/04 17:34:22 WARN RowBasedKeyValueBatch: Calling spill() on RowBasedKeyValueBatch. Will not spill but return 0.\n",
      "24/07/04 17:34:24 WARN RowBasedKeyValueBatch: Calling spill() on RowBasedKeyValueBatch. Will not spill but return 0.\n",
      "24/07/04 17:34:25 WARN RowBasedKeyValueBatch: Calling spill() on RowBasedKeyValueBatch. Will not spill but return 0.\n",
      "                                                                                \r"
     ]
    },
    {
     "name": "stdout",
     "output_type": "stream",
     "text": [
      "+--------+---------+------------+-------------+--------+---------+--------+--------------+--------+\n",
      "|  tconst|titleType|primaryTitle|originalTitle| isAdult|startYear| endYear|runtimeMinutes|  genres|\n",
      "+--------+---------+------------+-------------+--------+---------+--------+--------------+--------+\n",
      "|42684992| 42684992|    42685028|     42685028|42684992| 42684992|42684992|      42684992|42685434|\n",
      "+--------+---------+------------+-------------+--------+---------+--------+--------------+--------+\n",
      "\n",
      "Number of duplicates rows: 10671249\n",
      "Duplicate rows:\n"
     ]
    },
    {
     "name": "stderr",
     "output_type": "stream",
     "text": [
      "24/07/04 17:37:58 WARN RowBasedKeyValueBatch: Calling spill() on RowBasedKeyValueBatch. Will not spill but return 0.\n",
      "24/07/04 17:37:59 WARN RowBasedKeyValueBatch: Calling spill() on RowBasedKeyValueBatch. Will not spill but return 0.\n",
      "24/07/04 17:38:00 WARN RowBasedKeyValueBatch: Calling spill() on RowBasedKeyValueBatch. Will not spill but return 0.\n",
      "24/07/04 17:38:00 WARN RowBasedKeyValueBatch: Calling spill() on RowBasedKeyValueBatch. Will not spill but return 0.\n",
      "24/07/04 17:38:00 WARN RowBasedKeyValueBatch: Calling spill() on RowBasedKeyValueBatch. Will not spill but return 0.\n",
      "24/07/04 17:38:00 WARN RowBasedKeyValueBatch: Calling spill() on RowBasedKeyValueBatch. Will not spill but return 0.\n",
      "24/07/04 17:38:00 WARN RowBasedKeyValueBatch: Calling spill() on RowBasedKeyValueBatch. Will not spill but return 0.\n",
      "24/07/04 17:38:01 WARN RowBasedKeyValueBatch: Calling spill() on RowBasedKeyValueBatch. Will not spill but return 0.\n",
      "24/07/04 17:38:01 WARN RowBasedKeyValueBatch: Calling spill() on RowBasedKeyValueBatch. Will not spill but return 0.\n",
      "24/07/04 17:38:01 WARN RowBasedKeyValueBatch: Calling spill() on RowBasedKeyValueBatch. Will not spill but return 0.\n",
      "24/07/04 17:38:01 WARN RowBasedKeyValueBatch: Calling spill() on RowBasedKeyValueBatch. Will not spill but return 0.\n",
      "24/07/04 17:38:01 WARN RowBasedKeyValueBatch: Calling spill() on RowBasedKeyValueBatch. Will not spill but return 0.\n",
      "24/07/04 17:38:01 WARN RowBasedKeyValueBatch: Calling spill() on RowBasedKeyValueBatch. Will not spill but return 0.\n",
      "24/07/04 17:38:01 WARN RowBasedKeyValueBatch: Calling spill() on RowBasedKeyValueBatch. Will not spill but return 0.\n",
      "24/07/04 17:38:01 WARN RowBasedKeyValueBatch: Calling spill() on RowBasedKeyValueBatch. Will not spill but return 0.\n",
      "24/07/04 17:38:02 WARN RowBasedKeyValueBatch: Calling spill() on RowBasedKeyValueBatch. Will not spill but return 0.\n",
      "24/07/04 17:39:21 WARN RowBasedKeyValueBatch: Calling spill() on RowBasedKeyValueBatch. Will not spill but return 0.\n",
      "24/07/04 17:39:21 WARN RowBasedKeyValueBatch: Calling spill() on RowBasedKeyValueBatch. Will not spill but return 0.\n",
      "24/07/04 17:39:21 WARN RowBasedKeyValueBatch: Calling spill() on RowBasedKeyValueBatch. Will not spill but return 0.\n",
      "24/07/04 17:39:21 WARN RowBasedKeyValueBatch: Calling spill() on RowBasedKeyValueBatch. Will not spill but return 0.\n",
      "24/07/04 17:39:22 WARN RowBasedKeyValueBatch: Calling spill() on RowBasedKeyValueBatch. Will not spill but return 0.\n",
      "24/07/04 17:39:22 WARN RowBasedKeyValueBatch: Calling spill() on RowBasedKeyValueBatch. Will not spill but return 0.\n",
      "24/07/04 17:39:22 WARN RowBasedKeyValueBatch: Calling spill() on RowBasedKeyValueBatch. Will not spill but return 0.\n",
      "24/07/04 17:39:22 WARN RowBasedKeyValueBatch: Calling spill() on RowBasedKeyValueBatch. Will not spill but return 0.\n",
      "24/07/04 17:39:22 WARN RowBasedKeyValueBatch: Calling spill() on RowBasedKeyValueBatch. Will not spill but return 0.\n",
      "24/07/04 17:39:23 WARN RowBasedKeyValueBatch: Calling spill() on RowBasedKeyValueBatch. Will not spill but return 0.\n",
      "24/07/04 17:39:23 WARN RowBasedKeyValueBatch: Calling spill() on RowBasedKeyValueBatch. Will not spill but return 0.\n",
      "24/07/04 17:39:24 WARN RowBasedKeyValueBatch: Calling spill() on RowBasedKeyValueBatch. Will not spill but return 0.\n",
      "[Stage 13:>                                                         (0 + 1) / 1]\r"
     ]
    },
    {
     "name": "stdout",
     "output_type": "stream",
     "text": [
      "+---------+---------+-------------------------------+---------------------------------+-------+---------+-------+--------------+--------------------+-----+\n",
      "|tconst   |titleType|primaryTitle                   |originalTitle                    |isAdult|startYear|endYear|runtimeMinutes|genres              |count|\n",
      "+---------+---------+-------------------------------+---------------------------------+-------+---------+-------+--------------+--------------------+-----+\n",
      "|tt0000030|short    |Rough Sea at Dover             |Rough Sea at Dover               |0      |1895     |\\N     |1             |Documentary,Short   |2    |\n",
      "|tt0000125|short    |The Terrible Railway Accident  |The Terrible Railway Accident    |0      |1896     |\\N     |\\N            |Short               |2    |\n",
      "|tt0000380|short    |Sleeping Beauty                |La belle au bois dormant         |0      |1903     |\\N     |\\N            |Drama,Fantasy,Short |2    |\n",
      "|tt0000567|short    |The 400 Tricks of the Devil    |Les quatre cents farces du diable|0      |1906     |\\N     |17            |Fantasy,Horror,Short|2    |\n",
      "|tt0000746|short    |The Reckoning                  |The Reckoning                    |0      |1908     |\\N     |8             |Drama,Short         |2    |\n",
      "|tt0000850|movie    |Los dos hermanos               |Los dos hermanos                 |0      |1909     |\\N     |\\N            |\\N                  |2    |\n",
      "|tt0001193|short    |Elektra                        |Elektra                          |0      |1910     |\\N     |\\N            |Drama,Short         |2    |\n",
      "|tt0001254|short    |The Honor of His Family        |The Honor of His Family          |0      |1910     |\\N     |11            |Drama,Short         |2    |\n",
      "|tt0001256|short    |The House with Closed Shutters |The House with Closed Shutters   |0      |1910     |\\N     |17            |Drama,Short,War     |2    |\n",
      "|tt0001459|short    |Winning Back His Love          |Winning Back His Love            |0      |1910     |\\N     |17            |Drama,Romance,Short |2    |\n",
      "|tt0001508|short    |The Blind Princess and the Poet|The Blind Princess and the Poet  |0      |1911     |\\N     |\\N            |Romance,Short       |2    |\n",
      "|tt0001669|short    |His Birthday                   |His Birthday                     |0      |1911     |\\N     |\\N            |Comedy,Short        |2    |\n",
      "|tt0001872|short    |The Scarlet Letter             |The Scarlet Letter               |0      |1911     |\\N     |\\N            |Drama,Short         |2    |\n",
      "|tt0002008|short    |Alkali Ike's Close Shave       |Alkali Ike's Close Shave         |0      |1912     |\\N     |\\N            |Comedy,Short        |2    |\n",
      "|tt0002106|short    |Cohen Collects a Debt          |Cohen Collects a Debt            |0      |1912     |\\N     |\\N            |Comedy,Short        |2    |\n",
      "|tt0002141|short    |Don César de Bazan             |Don Caesar de Bazan              |0      |1912     |\\N     |22            |Drama,Short         |2    |\n",
      "|tt0002318|short    |A Lodging for the Night        |A Lodging for the Night          |0      |1912     |\\N     |17            |Romance,Short       |2    |\n",
      "|tt0002413|short    |The Outlaw's Sacrifice         |The Outlaw's Sacrifice           |0      |1912     |\\N     |\\N            |Short,Western       |2    |\n",
      "|tt0002439|movie    |The Prodigal Son               |The Prodigal Son                 |0      |1913     |\\N     |\\N            |\\N                  |2    |\n",
      "|tt0002991|short    |The Hoyden's Awakening         |The Hoyden's Awakening           |0      |1913     |\\N     |11            |Drama,Short         |2    |\n",
      "+---------+---------+-------------------------------+---------------------------------+-------+---------+-------+--------------+--------------------+-----+\n",
      "only showing top 20 rows\n",
      "\n"
     ]
    },
    {
     "name": "stderr",
     "output_type": "stream",
     "text": [
      "                                                                                \r"
     ]
    }
   ],
   "source": [
    "statistics(spark_df)"
   ]
  },
  {
   "cell_type": "code",
   "execution_count": 9,
   "metadata": {},
   "outputs": [
    {
     "name": "stderr",
     "output_type": "stream",
     "text": [
      "                                                                                \r"
     ]
    },
    {
     "name": "stdout",
     "output_type": "stream",
     "text": [
      "Initial number of rows: 64027488\n"
     ]
    },
    {
     "name": "stderr",
     "output_type": "stream",
     "text": [
      "24/07/04 17:43:12 WARN RowBasedKeyValueBatch: Calling spill() on RowBasedKeyValueBatch. Will not spill but return 0.\n",
      "24/07/04 17:43:13 WARN RowBasedKeyValueBatch: Calling spill() on RowBasedKeyValueBatch. Will not spill but return 0.\n",
      "24/07/04 17:43:13 WARN RowBasedKeyValueBatch: Calling spill() on RowBasedKeyValueBatch. Will not spill but return 0.\n",
      "24/07/04 17:43:14 WARN RowBasedKeyValueBatch: Calling spill() on RowBasedKeyValueBatch. Will not spill but return 0.\n",
      "24/07/04 17:43:14 WARN RowBasedKeyValueBatch: Calling spill() on RowBasedKeyValueBatch. Will not spill but return 0.\n",
      "24/07/04 17:43:14 WARN RowBasedKeyValueBatch: Calling spill() on RowBasedKeyValueBatch. Will not spill but return 0.\n",
      "24/07/04 17:43:15 WARN RowBasedKeyValueBatch: Calling spill() on RowBasedKeyValueBatch. Will not spill but return 0.\n",
      "24/07/04 17:43:15 WARN RowBasedKeyValueBatch: Calling spill() on RowBasedKeyValueBatch. Will not spill but return 0.\n",
      "24/07/04 17:43:15 WARN RowBasedKeyValueBatch: Calling spill() on RowBasedKeyValueBatch. Will not spill but return 0.\n",
      "24/07/04 17:43:15 WARN RowBasedKeyValueBatch: Calling spill() on RowBasedKeyValueBatch. Will not spill but return 0.\n",
      "24/07/04 17:43:15 WARN RowBasedKeyValueBatch: Calling spill() on RowBasedKeyValueBatch. Will not spill but return 0.\n",
      "24/07/04 17:43:15 WARN RowBasedKeyValueBatch: Calling spill() on RowBasedKeyValueBatch. Will not spill but return 0.\n",
      "24/07/04 17:43:15 WARN RowBasedKeyValueBatch: Calling spill() on RowBasedKeyValueBatch. Will not spill but return 0.\n",
      "24/07/04 17:43:15 WARN RowBasedKeyValueBatch: Calling spill() on RowBasedKeyValueBatch. Will not spill but return 0.\n",
      "24/07/04 17:43:15 WARN RowBasedKeyValueBatch: Calling spill() on RowBasedKeyValueBatch. Will not spill but return 0.\n",
      "24/07/04 17:43:15 WARN RowBasedKeyValueBatch: Calling spill() on RowBasedKeyValueBatch. Will not spill but return 0.\n",
      "24/07/04 17:44:32 WARN RowBasedKeyValueBatch: Calling spill() on RowBasedKeyValueBatch. Will not spill but return 0.\n",
      "24/07/04 17:44:33 WARN RowBasedKeyValueBatch: Calling spill() on RowBasedKeyValueBatch. Will not spill but return 0.\n",
      "24/07/04 17:44:33 WARN RowBasedKeyValueBatch: Calling spill() on RowBasedKeyValueBatch. Will not spill but return 0.\n",
      "24/07/04 17:44:33 WARN RowBasedKeyValueBatch: Calling spill() on RowBasedKeyValueBatch. Will not spill but return 0.\n",
      "24/07/04 17:44:34 WARN RowBasedKeyValueBatch: Calling spill() on RowBasedKeyValueBatch. Will not spill but return 0.\n",
      "24/07/04 17:44:34 WARN RowBasedKeyValueBatch: Calling spill() on RowBasedKeyValueBatch. Will not spill but return 0.\n",
      "24/07/04 17:44:34 WARN RowBasedKeyValueBatch: Calling spill() on RowBasedKeyValueBatch. Will not spill but return 0.\n",
      "24/07/04 17:44:34 WARN RowBasedKeyValueBatch: Calling spill() on RowBasedKeyValueBatch. Will not spill but return 0.\n",
      "24/07/04 17:44:34 WARN RowBasedKeyValueBatch: Calling spill() on RowBasedKeyValueBatch. Will not spill but return 0.\n",
      "24/07/04 17:44:34 WARN RowBasedKeyValueBatch: Calling spill() on RowBasedKeyValueBatch. Will not spill but return 0.\n",
      "24/07/04 17:44:34 WARN RowBasedKeyValueBatch: Calling spill() on RowBasedKeyValueBatch. Will not spill but return 0.\n",
      "24/07/04 17:44:35 WARN RowBasedKeyValueBatch: Calling spill() on RowBasedKeyValueBatch. Will not spill but return 0.\n",
      "                                                                                \r"
     ]
    },
    {
     "name": "stdout",
     "output_type": "stream",
     "text": [
      "Remove duplicate rows: 53356239\n"
     ]
    },
    {
     "name": "stderr",
     "output_type": "stream",
     "text": [
      "24/07/04 17:47:25 WARN RowBasedKeyValueBatch: Calling spill() on RowBasedKeyValueBatch. Will not spill but return 0.\n",
      "24/07/04 17:47:25 WARN RowBasedKeyValueBatch: Calling spill() on RowBasedKeyValueBatch. Will not spill but return 0.\n",
      "24/07/04 17:47:26 WARN RowBasedKeyValueBatch: Calling spill() on RowBasedKeyValueBatch. Will not spill but return 0.\n",
      "24/07/04 17:47:26 WARN RowBasedKeyValueBatch: Calling spill() on RowBasedKeyValueBatch. Will not spill but return 0.\n",
      "24/07/04 17:47:28 WARN RowBasedKeyValueBatch: Calling spill() on RowBasedKeyValueBatch. Will not spill but return 0.\n",
      "24/07/04 17:47:28 WARN RowBasedKeyValueBatch: Calling spill() on RowBasedKeyValueBatch. Will not spill but return 0.\n",
      "24/07/04 17:47:28 WARN RowBasedKeyValueBatch: Calling spill() on RowBasedKeyValueBatch. Will not spill but return 0.\n",
      "24/07/04 17:47:28 WARN RowBasedKeyValueBatch: Calling spill() on RowBasedKeyValueBatch. Will not spill but return 0.\n",
      "24/07/04 17:47:28 WARN RowBasedKeyValueBatch: Calling spill() on RowBasedKeyValueBatch. Will not spill but return 0.\n",
      "24/07/04 17:47:29 WARN RowBasedKeyValueBatch: Calling spill() on RowBasedKeyValueBatch. Will not spill but return 0.\n",
      "24/07/04 17:47:29 WARN RowBasedKeyValueBatch: Calling spill() on RowBasedKeyValueBatch. Will not spill but return 0.\n",
      "24/07/04 17:47:29 WARN RowBasedKeyValueBatch: Calling spill() on RowBasedKeyValueBatch. Will not spill but return 0.\n",
      "24/07/04 17:47:29 WARN RowBasedKeyValueBatch: Calling spill() on RowBasedKeyValueBatch. Will not spill but return 0.\n",
      "24/07/04 17:47:29 WARN RowBasedKeyValueBatch: Calling spill() on RowBasedKeyValueBatch. Will not spill but return 0.\n",
      "24/07/04 17:47:29 WARN RowBasedKeyValueBatch: Calling spill() on RowBasedKeyValueBatch. Will not spill but return 0.\n",
      "24/07/04 17:47:31 WARN RowBasedKeyValueBatch: Calling spill() on RowBasedKeyValueBatch. Will not spill but return 0.\n",
      "24/07/04 17:48:55 WARN RowBasedKeyValueBatch: Calling spill() on RowBasedKeyValueBatch. Will not spill but return 0.\n",
      "24/07/04 17:48:55 WARN RowBasedKeyValueBatch: Calling spill() on RowBasedKeyValueBatch. Will not spill but return 0.\n",
      "24/07/04 17:48:56 WARN RowBasedKeyValueBatch: Calling spill() on RowBasedKeyValueBatch. Will not spill but return 0.\n",
      "24/07/04 17:48:57 WARN RowBasedKeyValueBatch: Calling spill() on RowBasedKeyValueBatch. Will not spill but return 0.\n",
      "24/07/04 17:48:57 WARN RowBasedKeyValueBatch: Calling spill() on RowBasedKeyValueBatch. Will not spill but return 0.\n",
      "24/07/04 17:48:57 WARN RowBasedKeyValueBatch: Calling spill() on RowBasedKeyValueBatch. Will not spill but return 0.\n",
      "24/07/04 17:48:57 WARN RowBasedKeyValueBatch: Calling spill() on RowBasedKeyValueBatch. Will not spill but return 0.\n",
      "24/07/04 17:48:57 WARN RowBasedKeyValueBatch: Calling spill() on RowBasedKeyValueBatch. Will not spill but return 0.\n",
      "24/07/04 17:48:57 WARN RowBasedKeyValueBatch: Calling spill() on RowBasedKeyValueBatch. Will not spill but return 0.\n",
      "24/07/04 17:48:57 WARN RowBasedKeyValueBatch: Calling spill() on RowBasedKeyValueBatch. Will not spill but return 0.\n",
      "24/07/04 17:48:57 WARN RowBasedKeyValueBatch: Calling spill() on RowBasedKeyValueBatch. Will not spill but return 0.\n",
      "24/07/04 17:48:58 WARN RowBasedKeyValueBatch: Calling spill() on RowBasedKeyValueBatch. Will not spill but return 0.\n",
      "                                                                                \r"
     ]
    },
    {
     "name": "stdout",
     "output_type": "stream",
     "text": [
      "Number of rows with null values removed: 1\n"
     ]
    },
    {
     "name": "stderr",
     "output_type": "stream",
     "text": [
      "24/07/04 17:51:23 WARN RowBasedKeyValueBatch: Calling spill() on RowBasedKeyValueBatch. Will not spill but return 0.\n",
      "24/07/04 17:51:24 WARN RowBasedKeyValueBatch: Calling spill() on RowBasedKeyValueBatch. Will not spill but return 0.\n",
      "24/07/04 17:51:24 WARN RowBasedKeyValueBatch: Calling spill() on RowBasedKeyValueBatch. Will not spill but return 0.\n",
      "24/07/04 17:51:24 WARN RowBasedKeyValueBatch: Calling spill() on RowBasedKeyValueBatch. Will not spill but return 0.\n",
      "24/07/04 17:51:24 WARN RowBasedKeyValueBatch: Calling spill() on RowBasedKeyValueBatch. Will not spill but return 0.\n",
      "24/07/04 17:51:24 WARN RowBasedKeyValueBatch: Calling spill() on RowBasedKeyValueBatch. Will not spill but return 0.\n",
      "24/07/04 17:51:24 WARN RowBasedKeyValueBatch: Calling spill() on RowBasedKeyValueBatch. Will not spill but return 0.\n",
      "24/07/04 17:51:25 WARN RowBasedKeyValueBatch: Calling spill() on RowBasedKeyValueBatch. Will not spill but return 0.\n",
      "24/07/04 17:51:25 WARN RowBasedKeyValueBatch: Calling spill() on RowBasedKeyValueBatch. Will not spill but return 0.\n",
      "24/07/04 17:51:25 WARN RowBasedKeyValueBatch: Calling spill() on RowBasedKeyValueBatch. Will not spill but return 0.\n",
      "24/07/04 17:51:25 WARN RowBasedKeyValueBatch: Calling spill() on RowBasedKeyValueBatch. Will not spill but return 0.\n",
      "24/07/04 17:51:25 WARN RowBasedKeyValueBatch: Calling spill() on RowBasedKeyValueBatch. Will not spill but return 0.\n",
      "24/07/04 17:51:25 WARN RowBasedKeyValueBatch: Calling spill() on RowBasedKeyValueBatch. Will not spill but return 0.\n",
      "24/07/04 17:51:25 WARN RowBasedKeyValueBatch: Calling spill() on RowBasedKeyValueBatch. Will not spill but return 0.\n",
      "24/07/04 17:51:25 WARN RowBasedKeyValueBatch: Calling spill() on RowBasedKeyValueBatch. Will not spill but return 0.\n",
      "24/07/04 17:51:26 WARN RowBasedKeyValueBatch: Calling spill() on RowBasedKeyValueBatch. Will not spill but return 0.\n",
      "24/07/04 17:52:48 WARN RowBasedKeyValueBatch: Calling spill() on RowBasedKeyValueBatch. Will not spill but return 0.\n",
      "24/07/04 17:52:48 WARN RowBasedKeyValueBatch: Calling spill() on RowBasedKeyValueBatch. Will not spill but return 0.\n",
      "24/07/04 17:52:49 WARN RowBasedKeyValueBatch: Calling spill() on RowBasedKeyValueBatch. Will not spill but return 0.\n",
      "24/07/04 17:52:49 WARN RowBasedKeyValueBatch: Calling spill() on RowBasedKeyValueBatch. Will not spill but return 0.\n",
      "24/07/04 17:52:49 WARN RowBasedKeyValueBatch: Calling spill() on RowBasedKeyValueBatch. Will not spill but return 0.\n",
      "24/07/04 17:52:49 WARN RowBasedKeyValueBatch: Calling spill() on RowBasedKeyValueBatch. Will not spill but return 0.\n",
      "24/07/04 17:52:49 WARN RowBasedKeyValueBatch: Calling spill() on RowBasedKeyValueBatch. Will not spill but return 0.\n",
      "24/07/04 17:52:49 WARN RowBasedKeyValueBatch: Calling spill() on RowBasedKeyValueBatch. Will not spill but return 0.\n",
      "24/07/04 17:52:50 WARN RowBasedKeyValueBatch: Calling spill() on RowBasedKeyValueBatch. Will not spill but return 0.\n",
      "24/07/04 17:52:50 WARN RowBasedKeyValueBatch: Calling spill() on RowBasedKeyValueBatch. Will not spill but return 0.\n",
      "24/07/04 17:52:51 WARN RowBasedKeyValueBatch: Calling spill() on RowBasedKeyValueBatch. Will not spill but return 0.\n",
      "24/07/04 17:52:51 WARN RowBasedKeyValueBatch: Calling spill() on RowBasedKeyValueBatch. Will not spill but return 0.\n",
      "                                                                                \r"
     ]
    },
    {
     "name": "stdout",
     "output_type": "stream",
     "text": [
      "Final number of rows: 10671248\n",
      "Number of removed rows: 53356240\n"
     ]
    },
    {
     "name": "stderr",
     "output_type": "stream",
     "text": [
      "24/07/04 17:55:27 WARN RowBasedKeyValueBatch: Calling spill() on RowBasedKeyValueBatch. Will not spill but return 0.\n",
      "24/07/04 17:55:27 WARN RowBasedKeyValueBatch: Calling spill() on RowBasedKeyValueBatch. Will not spill but return 0.\n",
      "24/07/04 17:55:27 WARN RowBasedKeyValueBatch: Calling spill() on RowBasedKeyValueBatch. Will not spill but return 0.\n",
      "24/07/04 17:55:27 WARN RowBasedKeyValueBatch: Calling spill() on RowBasedKeyValueBatch. Will not spill but return 0.\n",
      "24/07/04 17:55:27 WARN RowBasedKeyValueBatch: Calling spill() on RowBasedKeyValueBatch. Will not spill but return 0.\n",
      "24/07/04 17:55:27 WARN RowBasedKeyValueBatch: Calling spill() on RowBasedKeyValueBatch. Will not spill but return 0.\n",
      "24/07/04 17:55:28 WARN RowBasedKeyValueBatch: Calling spill() on RowBasedKeyValueBatch. Will not spill but return 0.\n",
      "24/07/04 17:55:28 WARN RowBasedKeyValueBatch: Calling spill() on RowBasedKeyValueBatch. Will not spill but return 0.\n",
      "24/07/04 17:55:28 WARN RowBasedKeyValueBatch: Calling spill() on RowBasedKeyValueBatch. Will not spill but return 0.\n",
      "24/07/04 17:55:28 WARN RowBasedKeyValueBatch: Calling spill() on RowBasedKeyValueBatch. Will not spill but return 0.\n",
      "24/07/04 17:55:28 WARN RowBasedKeyValueBatch: Calling spill() on RowBasedKeyValueBatch. Will not spill but return 0.\n",
      "24/07/04 17:55:28 WARN RowBasedKeyValueBatch: Calling spill() on RowBasedKeyValueBatch. Will not spill but return 0.\n",
      "24/07/04 17:55:28 WARN RowBasedKeyValueBatch: Calling spill() on RowBasedKeyValueBatch. Will not spill but return 0.\n",
      "24/07/04 17:55:28 WARN RowBasedKeyValueBatch: Calling spill() on RowBasedKeyValueBatch. Will not spill but return 0.\n",
      "24/07/04 17:55:28 WARN RowBasedKeyValueBatch: Calling spill() on RowBasedKeyValueBatch. Will not spill but return 0.\n",
      "24/07/04 17:55:28 WARN RowBasedKeyValueBatch: Calling spill() on RowBasedKeyValueBatch. Will not spill but return 0.\n",
      "24/07/04 17:56:55 WARN RowBasedKeyValueBatch: Calling spill() on RowBasedKeyValueBatch. Will not spill but return 0.\n",
      "24/07/04 17:56:56 WARN RowBasedKeyValueBatch: Calling spill() on RowBasedKeyValueBatch. Will not spill but return 0.\n",
      "24/07/04 17:56:56 WARN RowBasedKeyValueBatch: Calling spill() on RowBasedKeyValueBatch. Will not spill but return 0.\n",
      "24/07/04 17:56:56 WARN RowBasedKeyValueBatch: Calling spill() on RowBasedKeyValueBatch. Will not spill but return 0.\n",
      "24/07/04 17:56:56 WARN RowBasedKeyValueBatch: Calling spill() on RowBasedKeyValueBatch. Will not spill but return 0.\n",
      "24/07/04 17:56:56 WARN RowBasedKeyValueBatch: Calling spill() on RowBasedKeyValueBatch. Will not spill but return 0.\n",
      "24/07/04 17:56:57 WARN RowBasedKeyValueBatch: Calling spill() on RowBasedKeyValueBatch. Will not spill but return 0.\n",
      "24/07/04 17:56:57 WARN RowBasedKeyValueBatch: Calling spill() on RowBasedKeyValueBatch. Will not spill but return 0.\n",
      "24/07/04 17:56:57 WARN RowBasedKeyValueBatch: Calling spill() on RowBasedKeyValueBatch. Will not spill but return 0.\n",
      "24/07/04 17:56:58 WARN RowBasedKeyValueBatch: Calling spill() on RowBasedKeyValueBatch. Will not spill but return 0.\n",
      "24/07/04 17:56:58 WARN RowBasedKeyValueBatch: Calling spill() on RowBasedKeyValueBatch. Will not spill but return 0.\n",
      "24/07/04 17:56:59 WARN RowBasedKeyValueBatch: Calling spill() on RowBasedKeyValueBatch. Will not spill but return 0.\n",
      "[Stage 37:>                                                         (0 + 1) / 1]\r"
     ]
    },
    {
     "name": "stdout",
     "output_type": "stream",
     "text": [
      "+---------+---------+--------------------+--------------------+-------+---------+-------+--------------+--------------------+\n",
      "|   tconst|titleType|        primaryTitle|       originalTitle|isAdult|startYear|endYear|runtimeMinutes|              genres|\n",
      "+---------+---------+--------------------+--------------------+-------+---------+-------+--------------+--------------------+\n",
      "|tt0000033|    short|  Horse Trick Riders|          La voltige|      0|     1895|     \\N|             1|Comedy,Documentar...|\n",
      "|tt0000132|    short|          Card Party|Une partie de cartes|      0|     1896|     \\N|             1|     Biography,Short|\n",
      "|tt0001472|    short|      After the Ball|      After the Ball|      0|     1910|     \\N|            \\N|        Comedy,Short|\n",
      "|tt0001672|    short|     His Dress Shirt|     His Dress Shirt|      0|     1911|     \\N|            \\N|        Comedy,Short|\n",
      "|tt0001729|    short|The Law of the Range|The Law of the Range|      0|     1911|     \\N|            \\N| Drama,Short,Western|\n",
      "|tt0001754|    short|      Love or Riches|      Love or Riches|      0|     1911|     \\N|            19|       Romance,Short|\n",
      "|tt0002366|    short|   The Minstrel King|   The Minstrel King|      0|     1912|     \\N|            20|               Short|\n",
      "|tt0002446|    movie|     Race for a Life|     Race for a Life|      0|     1912|     \\N|            \\N|                  \\N|\n",
      "|tt0002618|    short|   Almost an Actress|   Almost an Actress|      0|     1913|     \\N|            10|        Comedy,Short|\n",
      "|tt0002968|    short|    His Mother's Son|    His Mother's Son|      0|     1913|     \\N|            17|         Drama,Short|\n",
      "+---------+---------+--------------------+--------------------+-------+---------+-------+--------------+--------------------+\n",
      "only showing top 10 rows\n",
      "\n"
     ]
    },
    {
     "name": "stderr",
     "output_type": "stream",
     "text": [
      "                                                                                \r"
     ]
    }
   ],
   "source": [
    "filtered_df = cleaning(spark_df)"
   ]
  },
  {
   "cell_type": "code",
   "execution_count": 10,
   "metadata": {},
   "outputs": [
    {
     "name": "stderr",
     "output_type": "stream",
     "text": [
      "24/07/04 17:59:48 WARN RowBasedKeyValueBatch: Calling spill() on RowBasedKeyValueBatch. Will not spill but return 0.\n",
      "24/07/04 17:59:48 WARN RowBasedKeyValueBatch: Calling spill() on RowBasedKeyValueBatch. Will not spill but return 0.\n",
      "24/07/04 17:59:48 WARN RowBasedKeyValueBatch: Calling spill() on RowBasedKeyValueBatch. Will not spill but return 0.\n",
      "24/07/04 17:59:48 WARN RowBasedKeyValueBatch: Calling spill() on RowBasedKeyValueBatch. Will not spill but return 0.\n",
      "24/07/04 17:59:48 WARN RowBasedKeyValueBatch: Calling spill() on RowBasedKeyValueBatch. Will not spill but return 0.\n",
      "24/07/04 17:59:48 WARN RowBasedKeyValueBatch: Calling spill() on RowBasedKeyValueBatch. Will not spill but return 0.\n",
      "24/07/04 17:59:49 WARN RowBasedKeyValueBatch: Calling spill() on RowBasedKeyValueBatch. Will not spill but return 0.\n",
      "24/07/04 17:59:49 WARN RowBasedKeyValueBatch: Calling spill() on RowBasedKeyValueBatch. Will not spill but return 0.\n",
      "24/07/04 17:59:49 WARN RowBasedKeyValueBatch: Calling spill() on RowBasedKeyValueBatch. Will not spill but return 0.\n",
      "24/07/04 17:59:49 WARN RowBasedKeyValueBatch: Calling spill() on RowBasedKeyValueBatch. Will not spill but return 0.\n",
      "24/07/04 17:59:49 WARN RowBasedKeyValueBatch: Calling spill() on RowBasedKeyValueBatch. Will not spill but return 0.\n",
      "24/07/04 17:59:49 WARN RowBasedKeyValueBatch: Calling spill() on RowBasedKeyValueBatch. Will not spill but return 0.\n",
      "24/07/04 17:59:49 WARN RowBasedKeyValueBatch: Calling spill() on RowBasedKeyValueBatch. Will not spill but return 0.\n",
      "24/07/04 17:59:49 WARN RowBasedKeyValueBatch: Calling spill() on RowBasedKeyValueBatch. Will not spill but return 0.\n",
      "24/07/04 17:59:49 WARN RowBasedKeyValueBatch: Calling spill() on RowBasedKeyValueBatch. Will not spill but return 0.\n",
      "24/07/04 17:59:49 WARN RowBasedKeyValueBatch: Calling spill() on RowBasedKeyValueBatch. Will not spill but return 0.\n",
      "24/07/04 18:01:19 WARN RowBasedKeyValueBatch: Calling spill() on RowBasedKeyValueBatch. Will not spill but return 0.\n",
      "24/07/04 18:01:19 WARN RowBasedKeyValueBatch: Calling spill() on RowBasedKeyValueBatch. Will not spill but return 0.\n",
      "24/07/04 18:01:20 WARN RowBasedKeyValueBatch: Calling spill() on RowBasedKeyValueBatch. Will not spill but return 0.\n",
      "24/07/04 18:01:20 WARN RowBasedKeyValueBatch: Calling spill() on RowBasedKeyValueBatch. Will not spill but return 0.\n",
      "24/07/04 18:01:21 WARN RowBasedKeyValueBatch: Calling spill() on RowBasedKeyValueBatch. Will not spill but return 0.\n",
      "24/07/04 18:01:21 WARN RowBasedKeyValueBatch: Calling spill() on RowBasedKeyValueBatch. Will not spill but return 0.\n",
      "24/07/04 18:01:21 WARN RowBasedKeyValueBatch: Calling spill() on RowBasedKeyValueBatch. Will not spill but return 0.\n",
      "24/07/04 18:01:21 WARN RowBasedKeyValueBatch: Calling spill() on RowBasedKeyValueBatch. Will not spill but return 0.\n",
      "24/07/04 18:01:22 WARN RowBasedKeyValueBatch: Calling spill() on RowBasedKeyValueBatch. Will not spill but return 0.\n",
      "24/07/04 18:01:22 WARN RowBasedKeyValueBatch: Calling spill() on RowBasedKeyValueBatch. Will not spill but return 0.\n",
      "24/07/04 18:01:24 WARN RowBasedKeyValueBatch: Calling spill() on RowBasedKeyValueBatch. Will not spill but return 0.\n",
      "24/07/04 18:01:24 WARN RowBasedKeyValueBatch: Calling spill() on RowBasedKeyValueBatch. Will not spill but return 0.\n",
      "                                                                                \r"
     ]
    }
   ],
   "source": [
    "sparkdf_to_csv(filtered_df)"
   ]
  },
  {
   "cell_type": "markdown",
   "metadata": {},
   "source": [
    "### CLEANING PRODUCTS MARKET NOV 2019 DATASET"
   ]
  },
  {
   "cell_type": "code",
   "execution_count": 15,
   "metadata": {},
   "outputs": [
    {
     "name": "stderr",
     "output_type": "stream",
     "text": [
      "                                                                                \r"
     ]
    }
   ],
   "source": [
    "spark_df = csv_to_sparkdf(\"/input/2019-Nov.csv\")"
   ]
  },
  {
   "cell_type": "code",
   "execution_count": 17,
   "metadata": {},
   "outputs": [
    {
     "name": "stderr",
     "output_type": "stream",
     "text": [
      "                                                                                \r"
     ]
    },
    {
     "name": "stdout",
     "output_type": "stream",
     "text": [
      "+----------+----------+----------+-----------+-------------+-------+-----+-------+------------+\n",
      "|event_time|event_type|product_id|category_id|category_code|  brand|price|user_id|user_session|\n",
      "+----------+----------+----------+-----------+-------------+-------+-----+-------+------------+\n",
      "|         0|         0|         0|          0|     21898171|9218235|    0|      0|          10|\n",
      "+----------+----------+----------+-----------+-------------+-------+-----+-------+------------+\n",
      "\n",
      "Number of duplicates rows: 57553\n",
      "Duplicate rows:\n"
     ]
    },
    {
     "name": "stderr",
     "output_type": "stream",
     "text": [
      "[Stage 55:>                                                         (0 + 1) / 1]\r"
     ]
    },
    {
     "name": "stdout",
     "output_type": "stream",
     "text": [
      "+-------------------+----------+----------+-------------------+-----------------------------+-------+------+---------+------------------------------------+-----+\n",
      "|event_time         |event_type|product_id|category_id        |category_code                |brand  |price |user_id  |user_session                        |count|\n",
      "+-------------------+----------+----------+-------------------+-----------------------------+-------+------+---------+------------------------------------+-----+\n",
      "|2019-11-01 09:44:01|cart      |5000184   |2053013566100866035|appliances.sewing_machine    |janome |100.39|536869352|a62d675f-0ed9-4ffd-9251-b122c56b95b5|3    |\n",
      "|2019-11-02 17:57:08|cart      |1004856   |2053013555631882655|electronics.smartphone       |samsung|127.89|549380844|478567aa-37e3-4168-81bd-32e1f7d290f9|2    |\n",
      "|2019-11-02 16:09:29|cart      |1004768   |2053013555631882655|electronics.smartphone       |samsung|242.08|562538224|ab9b1d35-fdf4-4d97-a66c-e714e062b691|2    |\n",
      "|2019-11-02 23:28:57|cart      |1004833   |2053013555631882655|electronics.smartphone       |samsung|170.09|564133858|2bb7b5fb-9119-47c2-ae1f-0a37d1a4ef7e|2    |\n",
      "|2019-11-03 11:40:32|cart      |1201364   |2172371436436455782|electronics.tablet           |huawei |167.03|555639261|c8ba839c-ee51-4d7a-8f76-b48ce0462f1e|3    |\n",
      "|2019-11-03 15:46:24|cart      |1004739   |2053013555631882655|electronics.smartphone       |xiaomi |203.35|516420049|c67d1a4a-b868-4266-8e01-c685c00bfd78|2    |\n",
      "|2019-11-04 06:28:20|cart      |1002532   |2053013555631882655|electronics.smartphone       |apple  |566.04|564892239|26d4e44b-4ed3-4c01-89d9-6b0ba53e71d5|2    |\n",
      "|2019-11-04 08:31:59|cart      |1004766   |2053013555631882655|electronics.smartphone       |samsung|242.07|515423989|bb7e7f4b-ba01-4610-a657-e47fed64cf00|2    |\n",
      "|2019-11-04 16:24:04|cart      |1801766   |2053013554415534427|electronics.video.tv         |artel  |146.8 |567506779|2ecb4908-5b9e-480b-82fb-0fe783a16780|2    |\n",
      "|2019-11-04 11:19:37|cart      |1004856   |2053013555631882655|electronics.smartphone       |samsung|131.28|562538224|a50c2ae4-ec2b-41c5-98f5-a6986b9a440a|5    |\n",
      "|2019-11-05 12:15:11|cart      |1004833   |2053013555631882655|electronics.smartphone       |samsung|170.05|547617554|778289df-1095-48b0-8477-c93330f51945|2    |\n",
      "|2019-11-06 12:47:29|cart      |1005235   |2053013555631882655|electronics.smartphone       |oppo   |437.57|534695865|053685ae-8226-4b16-b97b-75a3de2612ce|2    |\n",
      "|2019-11-06 07:19:20|cart      |11400268  |2053013558458843721|NULL                         |xiaomi |20.74 |567874838|5c16a6ad-45df-4d58-b325-f2e3a2c56066|2    |\n",
      "|2019-11-06 13:22:56|cart      |1004767   |2053013555631882655|electronics.smartphone       |samsung|240.93|537388608|73a2182f-f452-4158-9593-41c0b76448bc|2    |\n",
      "|2019-11-06 20:57:27|cart      |1801882   |2053013554415534427|electronics.video.tv         |samsung|435.0 |530061795|af326fbb-9d90-4730-8d13-4cdaed280e6f|8    |\n",
      "|2019-11-07 08:23:12|cart      |1801723   |2053013554415534427|electronics.video.tv         |tcl    |149.29|566195962|24cfc8e7-17ee-4483-8296-a4f0d418ac4d|2    |\n",
      "|2019-11-07 08:23:25|cart      |1004856   |2053013555631882655|electronics.smartphone       |samsung|131.66|527633044|957e4289-df6b-48db-95a7-1d0c19b238ea|2    |\n",
      "|2019-11-07 15:11:05|cart      |8800911   |2053013555573162395|electronics.telephone        |nokia  |23.41 |540344472|e819cc55-f6bb-4557-acd7-6e9f280b9177|2    |\n",
      "|2019-11-08 07:14:16|cart      |3700766   |2053013565983425517|appliances.environment.vacuum|samsung|136.4 |527632568|64bdd544-0e99-4330-991a-d513df2c9816|2    |\n",
      "|2019-11-08 08:02:03|cart      |1002547   |2053013555631882655|electronics.smartphone       |apple  |500.63|568839365|bcfd5ff0-efce-43e6-b692-0eb34a6ac61b|2    |\n",
      "+-------------------+----------+----------+-------------------+-----------------------------+-------+------+---------+------------------------------------+-----+\n",
      "only showing top 20 rows\n",
      "\n"
     ]
    },
    {
     "name": "stderr",
     "output_type": "stream",
     "text": [
      "                                                                                \r"
     ]
    }
   ],
   "source": [
    "statistics(spark_df)"
   ]
  },
  {
   "cell_type": "code",
   "execution_count": 18,
   "metadata": {},
   "outputs": [
    {
     "name": "stderr",
     "output_type": "stream",
     "text": [
      "                                                                                \r"
     ]
    },
    {
     "name": "stdout",
     "output_type": "stream",
     "text": [
      "Initial number of rows: 67501979\n"
     ]
    },
    {
     "name": "stderr",
     "output_type": "stream",
     "text": [
      "                                                                                \r"
     ]
    },
    {
     "name": "stdout",
     "output_type": "stream",
     "text": [
      "Remove duplicate rows: 100519\n"
     ]
    },
    {
     "name": "stderr",
     "output_type": "stream",
     "text": [
      "                                                                                \r"
     ]
    },
    {
     "name": "stdout",
     "output_type": "stream",
     "text": [
      "Numero di righe con valori nulli eliminate: 0\n"
     ]
    },
    {
     "name": "stderr",
     "output_type": "stream",
     "text": [
      "                                                                                \r"
     ]
    },
    {
     "name": "stdout",
     "output_type": "stream",
     "text": [
      "Final number of rows: 67401460\n",
      "Number of removed rows: 100519\n"
     ]
    },
    {
     "name": "stderr",
     "output_type": "stream",
     "text": [
      "[Stage 79:>                                                         (0 + 1) / 1]\r"
     ]
    },
    {
     "name": "stdout",
     "output_type": "stream",
     "text": [
      "+-------------------+----------+----------+-------------------+--------------------+-------+-------+---------+--------------------+\n",
      "|         event_time|event_type|product_id|        category_id|       category_code|  brand|  price|  user_id|        user_session|\n",
      "+-------------------+----------+----------+-------------------+--------------------+-------+-------+---------+--------------------+\n",
      "|2019-11-01 01:01:44|      view|   2701646|2053013563911439225|appliances.kitche...|indesit| 268.49|539701280|a9e5a322-c765-d52...|\n",
      "|2019-11-01 01:03:31|      view|   2401540|2053013563743667055|appliances.kitche...|  midea| 167.29|515761354|b2da6f0a-6eeb-450...|\n",
      "|2019-11-01 01:05:01|      view|   1004788|2053013555631882655|electronics.smart...| xiaomi| 138.71|532572658|b1df0fce-6e03-47c...|\n",
      "|2019-11-01 01:07:13|      view|  28714418|2053013565127787455|       apparel.shoes|   etor| 100.39|545220871|fa5820b7-d974-4a8...|\n",
      "|2019-11-01 01:11:13|      view|   1004159|2053013555631882655|electronics.smart...|samsung|1253.09|552177592|af48aa35-c497-429...|\n",
      "|2019-11-01 01:12:35|      view|  28718866|2053013565639492569|       apparel.shoes| rieker| 110.94|560601602|904572a9-9101-4ad...|\n",
      "|2019-11-01 01:12:42|      view|   4804295|2053013554658804075|electronics.audio...| xiaomi|   22.8|554206935|d0b2c12a-019d-4fb...|\n",
      "|2019-11-01 01:17:39|      view|  17900047|2053013560178508465|construction.tool...|  huter|  96.81|540680110|6543a1fc-0791-4d3...|\n",
      "|2019-11-01 01:21:13|      view|  13200941|2053013557192163841|furniture.bedroom...|     sv| 257.15|560134869|a48a30b6-61b5-481...|\n",
      "|2019-11-01 01:21:51|      view|   2701286|2053013563911439225|appliances.kitche...|samsung| 630.44|516853100|217a5237-dcb8-489...|\n",
      "+-------------------+----------+----------+-------------------+--------------------+-------+-------+---------+--------------------+\n",
      "only showing top 10 rows\n",
      "\n"
     ]
    },
    {
     "name": "stderr",
     "output_type": "stream",
     "text": [
      "                                                                                \r"
     ]
    }
   ],
   "source": [
    "filtered_df = cleaning(spark_df)"
   ]
  },
  {
   "cell_type": "code",
   "execution_count": 21,
   "metadata": {},
   "outputs": [
    {
     "name": "stderr",
     "output_type": "stream",
     "text": [
      "                                                                                \r"
     ]
    }
   ],
   "source": [
    "sparkdf_to_csv(filtered_df)"
   ]
  }
 ],
 "metadata": {
  "kernelspec": {
   "display_name": "base",
   "language": "python",
   "name": "python3"
  },
  "language_info": {
   "codemirror_mode": {
    "name": "ipython",
    "version": 3
   },
   "file_extension": ".py",
   "mimetype": "text/x-python",
   "name": "python",
   "nbconvert_exporter": "python",
   "pygments_lexer": "ipython3",
   "version": "3.11.7"
  }
 },
 "nbformat": 4,
 "nbformat_minor": 2
}
