{
 "cells": [
  {
   "cell_type": "code",
   "execution_count": 6,
   "metadata": {},
   "outputs": [],
   "source": [
    "import pandas as pd"
   ]
  },
  {
   "cell_type": "code",
   "execution_count": 7,
   "metadata": {},
   "outputs": [],
   "source": [
    "''' to merge two datasets '''\n",
    "file1 = pd.read_csv('../../datasets/initial_datasets/CAvideos.csv')\n",
    "file2 = pd.read_csv('../../datasets/initial_datasets/USvideos.csv')\n",
    "\n",
    "merged_df = pd.concat([file1, file2])\n"
   ]
  },
  {
   "cell_type": "code",
   "execution_count": 8,
   "metadata": {},
   "outputs": [],
   "source": [
    "''' to duplicate a dataset '''\n",
    "duplicated_df = pd.concat([merged_df, merged_df])"
   ]
  },
  {
   "cell_type": "code",
   "execution_count": 9,
   "metadata": {},
   "outputs": [],
   "source": [
    "''' to insert null values into the dataset '''\n",
    "# Create df of null values with the same form as duplicated_df\n",
    "null_df = pd.DataFrame(None, index=duplicated_df.index, columns=duplicated_df.columns)\n",
    "dirty_df = pd.concat([duplicated_df, null_df, null_df])"
   ]
  },
  {
   "cell_type": "code",
   "execution_count": 10,
   "metadata": {},
   "outputs": [],
   "source": [
    "dirty_df.to_csv('../../datasets/initial_datasets/videos.csv', index=False)"
   ]
  }
 ],
 "metadata": {
  "kernelspec": {
   "display_name": "base",
   "language": "python",
   "name": "python3"
  },
  "language_info": {
   "codemirror_mode": {
    "name": "ipython",
    "version": 3
   },
   "file_extension": ".py",
   "mimetype": "text/x-python",
   "name": "python",
   "nbconvert_exporter": "python",
   "pygments_lexer": "ipython3",
   "version": "3.11.7"
  }
 },
 "nbformat": 4,
 "nbformat_minor": 2
}
