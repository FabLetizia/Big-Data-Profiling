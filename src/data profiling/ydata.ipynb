{
 "cells": [
  {
   "cell_type": "code",
   "execution_count": 2,
   "metadata": {},
   "outputs": [
    {
     "name": "stderr",
     "output_type": "stream",
     "text": [
      "Setting default log level to \"WARN\".\n",
      "To adjust logging level use sc.setLogLevel(newLevel). For SparkR, use setLogLevel(newLevel).\n",
      "24/07/04 18:45:07 WARN NativeCodeLoader: Unable to load native-hadoop library for your platform... using builtin-java classes where applicable\n",
      "                                                                                \r"
     ]
    },
    {
     "data": {
      "application/vnd.jupyter.widget-view+json": {
       "model_id": "d146ab43cc854c46b09c65ff5a680e81",
       "version_major": 2,
       "version_minor": 0
      },
      "text/plain": [
       "Summarize dataset:   0%|          | 0/5 [00:00<?, ?it/s]"
      ]
     },
     "metadata": {},
     "output_type": "display_data"
    },
    {
     "name": "stderr",
     "output_type": "stream",
     "text": [
      "24/07/04 18:53:14 WARN CacheManager: Asked to cache already cached data.) / 2]  \n",
      "24/07/04 18:53:17 WARN CacheManager: Asked to cache already cached data.        \n",
      "24/07/04 18:53:22 WARN CacheManager: Asked to cache already cached data.        \n",
      "24/07/04 18:53:22 WARN CacheManager: Asked to cache already cached data.) / 2]\n",
      "24/07/04 18:53:24 WARN CacheManager: Asked to cache already cached data.        \n",
      "24/07/04 18:53:31 WARN CacheManager: Asked to cache already cached data.) / 2]  \n",
      "24/07/04 18:55:03 WARN CacheManager: Asked to cache already cached data.1) / 10]\n",
      "24/07/04 18:55:12 WARN CacheManager: Asked to cache already cached data.) / 52] \n",
      "24/07/04 18:56:23 WARN CacheManager: Asked to cache already cached data.        \n",
      "INFO:py4j.clientserver:Closing down clientserver connection                     \n",
      "INFO:py4j.clientserver:Closing down clientserver connection\n",
      "INFO:py4j.clientserver:Closing down clientserver connection\n",
      "INFO:py4j.clientserver:Closing down clientserver connection\n",
      "INFO:py4j.clientserver:Closing down clientserver connection\n",
      "INFO:py4j.clientserver:Closing down clientserver connection\n",
      "INFO:py4j.clientserver:Closing down clientserver connection\n",
      "INFO:py4j.clientserver:Closing down clientserver connection\n",
      "INFO:py4j.clientserver:Closing down clientserver connection\n",
      "24/07/04 18:58:45 WARN RowBasedKeyValueBatch: Calling spill() on RowBasedKeyValueBatch. Will not spill but return 0.\n",
      "24/07/04 18:58:45 WARN RowBasedKeyValueBatch: Calling spill() on RowBasedKeyValueBatch. Will not spill but return 0.\n",
      "24/07/04 18:58:46 WARN RowBasedKeyValueBatch: Calling spill() on RowBasedKeyValueBatch. Will not spill but return 0.\n",
      "24/07/04 18:58:46 WARN RowBasedKeyValueBatch: Calling spill() on RowBasedKeyValueBatch. Will not spill but return 0.\n",
      "24/07/04 18:58:46 WARN RowBasedKeyValueBatch: Calling spill() on RowBasedKeyValueBatch. Will not spill but return 0.\n",
      "24/07/04 18:58:46 WARN RowBasedKeyValueBatch: Calling spill() on RowBasedKeyValueBatch. Will not spill but return 0.\n",
      "24/07/04 18:58:46 WARN RowBasedKeyValueBatch: Calling spill() on RowBasedKeyValueBatch. Will not spill but return 0.\n",
      "24/07/04 18:58:47 WARN RowBasedKeyValueBatch: Calling spill() on RowBasedKeyValueBatch. Will not spill but return 0.\n",
      "24/07/04 18:58:47 WARN RowBasedKeyValueBatch: Calling spill() on RowBasedKeyValueBatch. Will not spill but return 0.\n",
      "24/07/04 18:58:48 WARN RowBasedKeyValueBatch: Calling spill() on RowBasedKeyValueBatch. Will not spill but return 0.\n",
      "24/07/04 18:58:48 WARN RowBasedKeyValueBatch: Calling spill() on RowBasedKeyValueBatch. Will not spill but return 0.\n",
      "24/07/04 18:58:48 WARN RowBasedKeyValueBatch: Calling spill() on RowBasedKeyValueBatch. Will not spill but return 0.\n",
      "24/07/04 18:58:48 WARN RowBasedKeyValueBatch: Calling spill() on RowBasedKeyValueBatch. Will not spill but return 0.\n",
      "24/07/04 18:58:48 WARN RowBasedKeyValueBatch: Calling spill() on RowBasedKeyValueBatch. Will not spill but return 0.\n",
      "24/07/04 18:58:48 WARN RowBasedKeyValueBatch: Calling spill() on RowBasedKeyValueBatch. Will not spill but return 0.\n",
      "24/07/04 18:58:49 WARN RowBasedKeyValueBatch: Calling spill() on RowBasedKeyValueBatch. Will not spill but return 0.\n",
      "24/07/04 19:03:28 WARN RowBasedKeyValueBatch: Calling spill() on RowBasedKeyValueBatch. Will not spill but return 0.\n",
      "24/07/04 19:03:29 WARN RowBasedKeyValueBatch: Calling spill() on RowBasedKeyValueBatch. Will not spill but return 0.\n",
      "24/07/04 19:03:29 WARN RowBasedKeyValueBatch: Calling spill() on RowBasedKeyValueBatch. Will not spill but return 0.\n",
      "24/07/04 19:03:29 WARN RowBasedKeyValueBatch: Calling spill() on RowBasedKeyValueBatch. Will not spill but return 0.\n",
      "24/07/04 19:03:29 WARN RowBasedKeyValueBatch: Calling spill() on RowBasedKeyValueBatch. Will not spill but return 0.\n",
      "24/07/04 19:03:29 WARN RowBasedKeyValueBatch: Calling spill() on RowBasedKeyValueBatch. Will not spill but return 0.\n",
      "24/07/04 19:03:29 WARN RowBasedKeyValueBatch: Calling spill() on RowBasedKeyValueBatch. Will not spill but return 0.\n",
      "24/07/04 19:03:29 WARN RowBasedKeyValueBatch: Calling spill() on RowBasedKeyValueBatch. Will not spill but return 0.\n",
      "24/07/04 19:03:30 WARN RowBasedKeyValueBatch: Calling spill() on RowBasedKeyValueBatch. Will not spill but return 0.\n",
      "24/07/04 19:03:30 WARN RowBasedKeyValueBatch: Calling spill() on RowBasedKeyValueBatch. Will not spill but return 0.\n",
      "24/07/04 19:03:30 WARN RowBasedKeyValueBatch: Calling spill() on RowBasedKeyValueBatch. Will not spill but return 0.\n",
      "24/07/04 19:03:30 WARN RowBasedKeyValueBatch: Calling spill() on RowBasedKeyValueBatch. Will not spill but return 0.\n",
      "24/07/04 19:03:30 WARN RowBasedKeyValueBatch: Calling spill() on RowBasedKeyValueBatch. Will not spill but return 0.\n",
      "24/07/04 19:03:30 WARN RowBasedKeyValueBatch: Calling spill() on RowBasedKeyValueBatch. Will not spill but return 0.\n",
      "24/07/04 19:03:30 WARN RowBasedKeyValueBatch: Calling spill() on RowBasedKeyValueBatch. Will not spill but return 0.\n",
      "24/07/04 19:03:30 WARN RowBasedKeyValueBatch: Calling spill() on RowBasedKeyValueBatch. Will not spill but return 0.\n",
      "                                                                                \r"
     ]
    },
    {
     "data": {
      "application/vnd.jupyter.widget-view+json": {
       "model_id": "0bb72d2fbe734b45ab059988dbf6dbb0",
       "version_major": 2,
       "version_minor": 0
      },
      "text/plain": [
       "Generate report structure:   0%|          | 0/1 [00:00<?, ?it/s]"
      ]
     },
     "metadata": {},
     "output_type": "display_data"
    },
    {
     "data": {
      "application/vnd.jupyter.widget-view+json": {
       "model_id": "38e792877b8e4acc987b3a3f42ef889a",
       "version_major": 2,
       "version_minor": 0
      },
      "text/plain": [
       "Render HTML:   0%|          | 0/1 [00:00<?, ?it/s]"
      ]
     },
     "metadata": {},
     "output_type": "display_data"
    },
    {
     "data": {
      "application/vnd.jupyter.widget-view+json": {
       "model_id": "5446069ebd704b1e80e7b6641e6c5848",
       "version_major": 2,
       "version_minor": 0
      },
      "text/plain": [
       "Export report to file:   0%|          | 0/1 [00:00<?, ?it/s]"
      ]
     },
     "metadata": {},
     "output_type": "display_data"
    },
    {
     "name": "stdout",
     "output_type": "stream",
     "text": [
      "Profile report saved to cleaned_titles_report.html\n"
     ]
    }
   ],
   "source": [
    "import logging\n",
    "import warnings\n",
    "from matplotlib import MatplotlibDeprecationWarning\n",
    "from pyspark.sql import SparkSession\n",
    "from ydata_profiling import ProfileReport\n",
    "from ydata_profiling.config import Settings\n",
    "\n",
    "logging.basicConfig(level=logging.INFO)\n",
    "\n",
    "# Local paths for input and output\n",
    "input_path = \"/output/cleaned_datasets/part-00000-84b4bb66-a373-431b-8655-e13205cafff1-c000.csv\"\n",
    "output_path = \"cleaned_titles_report.html\"\n",
    "\n",
    "spark_session = (\n",
    "    SparkSession.builder\n",
    "    .appName(\"SparkProfiling\")\n",
    "    .master(\"local[*]\")\n",
    "    .config(\"spark.executor.memory\", \"4g\")\n",
    "    .config(\"spark.driver.memory\", \"4g\")\n",
    "    .getOrCreate()\n",
    ")\n",
    "\n",
    "spark_df = spark_session.read.csv(input_path, header=True, inferSchema=True)\n",
    "\n",
    "# Configuration settings for ydata_profiling\n",
    "cfg = Settings()\n",
    "cfg.infer_dtypes = False\n",
    "cfg.correlations[\"auto\"].calculate = False\n",
    "cfg.correlations[\"pearson\"].calculate = False\n",
    "cfg.correlations[\"spearman\"].calculate = False\n",
    "cfg.interactions.continuous = False\n",
    "cfg.missing_diagrams[\"bar\"] = False\n",
    "cfg.missing_diagrams[\"heatmap\"] = False\n",
    "cfg.missing_diagrams[\"matrix\"] = False\n",
    "cfg.samples.tail = 0\n",
    "cfg.samples.random = 0\n",
    "\n",
    "# Create and start the monitoring process\n",
    "warnings.filterwarnings(\"ignore\", category=MatplotlibDeprecationWarning)\n",
    "\n",
    "# ydata_profiling tool\n",
    "profile = ProfileReport(spark_df, config=cfg)\n",
    "\n",
    "profile.to_file(output_path)\n",
    "\n",
    "print(f\"Profile report saved to {output_path}\")\n"
   ]
  }
 ],
 "metadata": {
  "kernelspec": {
   "display_name": "base",
   "language": "python",
   "name": "python3"
  },
  "language_info": {
   "codemirror_mode": {
    "name": "ipython",
    "version": 3
   },
   "file_extension": ".py",
   "mimetype": "text/x-python",
   "name": "python",
   "nbconvert_exporter": "python",
   "pygments_lexer": "ipython3",
   "version": "3.11.7"
  }
 },
 "nbformat": 4,
 "nbformat_minor": 2
}
