{
 "cells": [
  {
   "cell_type": "code",
   "execution_count": null,
   "metadata": {},
   "outputs": [],
   "source": [
    "import logging\n",
    "import warnings\n",
    "from matplotlib import MatplotlibDeprecationWarning\n",
    "from pyspark.sql import SparkSession\n",
    "from ydata_profiling import ProfileReport\n",
    "from ydata_profiling.config import Settings\n",
    "\n",
    "logging.basicConfig(level=logging.INFO)\n",
    "\n",
    "# Local paths for input and output\n",
    "input_path = \"/input/cleaned_titles.csv\"\n",
    "output_path = \"cleaned_titles_report.html\"\n",
    "\n",
    "spark_session = (\n",
    "    SparkSession.builder\n",
    "    .appName(\"SparkProfiling\")\n",
    "    .master(\"local[*]\")\n",
    "    .config(\"spark.executor.memory\", \"4g\")\n",
    "    .config(\"spark.driver.memory\", \"4g\")\n",
    "    .getOrCreate()\n",
    ")\n",
    "\n",
    "spark_df = spark_session.read.csv(input_path, header=True, inferSchema=True)\n",
    "\n",
    "# Configuration settings for ydata_profiling\n",
    "cfg = Settings()\n",
    "cfg.infer_dtypes = False\n",
    "cfg.correlations[\"auto\"].calculate = False\n",
    "cfg.correlations[\"pearson\"].calculate = False\n",
    "cfg.correlations[\"spearman\"].calculate = False\n",
    "cfg.interactions.continuous = False\n",
    "cfg.missing_diagrams[\"bar\"] = False\n",
    "cfg.missing_diagrams[\"heatmap\"] = False\n",
    "cfg.missing_diagrams[\"matrix\"] = False\n",
    "cfg.samples.tail = 0\n",
    "cfg.samples.random = 0\n",
    "\n",
    "# Create and start the monitoring process\n",
    "warnings.filterwarnings(\"ignore\", category=MatplotlibDeprecationWarning)\n",
    "\n",
    "# ydata_profiling tool\n",
    "profile = ProfileReport(spark_df, config=cfg)\n",
    "\n",
    "profile.to_file(output_path)\n",
    "\n",
    "print(f\"Profile report saved to {output_path}\")\n"
   ]
  }
 ],
 "metadata": {
  "kernelspec": {
   "display_name": "base",
   "language": "python",
   "name": "python3"
  },
  "language_info": {
   "codemirror_mode": {
    "name": "ipython",
    "version": 3
   },
   "file_extension": ".py",
   "mimetype": "text/x-python",
   "name": "python",
   "nbconvert_exporter": "python",
   "pygments_lexer": "ipython3",
   "version": "3.11.7"
  }
 },
 "nbformat": 4,
 "nbformat_minor": 2
}
