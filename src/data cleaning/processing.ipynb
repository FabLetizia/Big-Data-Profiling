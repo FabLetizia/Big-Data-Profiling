{
 "cells": [
  {
   "cell_type": "code",
   "execution_count": null,
   "metadata": {},
   "outputs": [],
   "source": [
    "from pyspark.sql.functions import *\n",
    "from pyspark.sql.functions import sum as _sum\n",
    "from pyspark.sql import SparkSession\n",
    "from functools import reduce"
   ]
  },
  {
   "cell_type": "markdown",
   "metadata": {},
   "source": [
    "### CLEANING FUNCTIONS"
   ]
  },
  {
   "cell_type": "code",
   "execution_count": null,
   "metadata": {},
   "outputs": [],
   "source": [
    "''' This function takes as input the hdfs path of a csv and converts it into a spark dataframe '''\n",
    "def csv_to_sparkdf(csv_path):\n",
    "    # Create Spark Session\n",
    "    spark_session = (\n",
    "    SparkSession.builder.appName(\"SparkProfiling\")\n",
    "    .master(\"local[*]\")\n",
    "    .config(\"spark.executor.memory\", \"4g\")\n",
    "    .config(\"spark.driver.memory\", \"4g\")\n",
    "    .getOrCreate()\n",
    "    )\n",
    "    # Load the dataset in a spark dataframe\n",
    "    spark_df = spark_session.read.csv(csv_path, header=True, inferSchema=True)\n",
    "    return spark_df"
   ]
  },
  {
   "cell_type": "code",
   "execution_count": null,
   "metadata": {},
   "outputs": [],
   "source": [
    "''' This function takes a spark dataframe as input and prints statistics on null values and duplicate rows '''\n",
    "def statistics(spark_df):\n",
    "    # Count null values for each columns\n",
    "    null_counts = spark_df.select([count(when(col(c).isNull(), c)).alias(c) for c in spark_df.columns])\n",
    "    # Count duplicates rows\n",
    "    duplicate_rows = spark_df.groupBy(spark_df.columns).count().filter(\"count > 1\")\n",
    "    duplicate_count = duplicate_rows.count()\n",
    "\n",
    "    null_counts.show()\n",
    "    print(f\"Number of duplicates rows: {duplicate_count}\")\n",
    "\n",
    "    # Show duplicate rows\n",
    "    if duplicate_count > 0:\n",
    "        print(\"Duplicate rows:\")\n",
    "        duplicate_rows.show(truncate=False) "
   ]
  },
  {
   "cell_type": "code",
   "execution_count": null,
   "metadata": {},
   "outputs": [],
   "source": [
    "''' This function takes a spark dataframe as input and returns a 'clean' spark dataframe i.e. without\n",
    "    duplicate rows and rows with too many null values '''\n",
    "def cleaning(spark_df):\n",
    "    # Initial number of rows\n",
    "    initial_row_count = spark_df.count()\n",
    "    print(f\"Initial number of rows: {initial_row_count}\")\n",
    "\n",
    "    # Remove duplicate rows\n",
    "    new_spark_df = spark_df.dropDuplicates()\n",
    "    row_count_withoutDuplicates = new_spark_df.count()\n",
    "    print(f\"Remove duplicate rows: {initial_row_count - row_count_withoutDuplicates}\")\n",
    "\n",
    "\n",
    "    # Calculate the threshold of nulls for each row \n",
    "    # To delete even more lines, simply lower the threshold\n",
    "    threshold = len(new_spark_df.columns) / 2\n",
    "\n",
    "    # Create a temporary column to count null values per row\n",
    "    null_counts_expr = reduce(\n",
    "        lambda acc, c: acc + when(col(c).isNull(), 1).otherwise(0),\n",
    "        new_spark_df.columns,\n",
    "        lit(0)\n",
    "    )\n",
    "    spark_df_null = new_spark_df.withColumn(\"null_count\", null_counts_expr)\n",
    "\n",
    "    # Keep rows with less than the threshold (50%) of null values\n",
    "    filtered_df = spark_df_null.filter(col(\"null_count\") < threshold).drop(\"null_count\")\n",
    "    print(f\"Number of rows with null values removed: {row_count_withoutDuplicates - filtered_df.count()}\")\n",
    "\n",
    "\n",
    "    # Final number of rows\n",
    "    final_row_count = filtered_df.count()\n",
    "    print(f\"Final number of rows: {final_row_count}\")\n",
    "\n",
    "    # Number of removed rows\n",
    "    deleted_row_count = initial_row_count - final_row_count\n",
    "    print(f\"Number of removed rows: {deleted_row_count}\")\n",
    "\n",
    "    filtered_df.show(10)\n",
    "    return filtered_df"
   ]
  },
  {
   "cell_type": "code",
   "execution_count": null,
   "metadata": {},
   "outputs": [],
   "source": [
    "''' This function takes a spark dataframe as input and stores it in a csv on hdfs '''\n",
    "def sparkdf_to_csv(spark_df):\n",
    "    # Hdfs path where you want to save the CSV file\n",
    "    output_path = \"/output/cleaned_datasets/\"\n",
    "    spark_df = spark_df.coalesce(1)\n",
    "    spark_df.write.csv(output_path, header=True)"
   ]
  },
  {
   "cell_type": "markdown",
   "metadata": {},
   "source": [
    "### CLEANING AIRLINE DATASET"
   ]
  },
  {
   "cell_type": "code",
   "execution_count": null,
   "metadata": {},
   "outputs": [],
   "source": [
    "spark_df = csv_to_sparkdf(\"/input/Airline.csv\")"
   ]
  },
  {
   "cell_type": "code",
   "execution_count": null,
   "metadata": {},
   "outputs": [],
   "source": [
    "statistics(spark_df)"
   ]
  },
  {
   "cell_type": "markdown",
   "metadata": {},
   "source": [
    "### CLEANING BOOKS RATING DATASET"
   ]
  },
  {
   "cell_type": "code",
   "execution_count": null,
   "metadata": {},
   "outputs": [],
   "source": [
    "spark_df = csv_to_sparkdf(\"/input/Books_rating.csv\")"
   ]
  },
  {
   "cell_type": "code",
   "execution_count": null,
   "metadata": {},
   "outputs": [],
   "source": [
    "statistics(spark_df)"
   ]
  },
  {
   "cell_type": "code",
   "execution_count": null,
   "metadata": {},
   "outputs": [],
   "source": [
    "filtered_df = cleaning(spark_df)"
   ]
  },
  {
   "cell_type": "code",
   "execution_count": null,
   "metadata": {},
   "outputs": [],
   "source": [
    "sparkdf_to_csv(filtered_df)"
   ]
  },
  {
   "cell_type": "markdown",
   "metadata": {},
   "source": [
    "### CLEANING LONDON DATASET"
   ]
  },
  {
   "cell_type": "code",
   "execution_count": null,
   "metadata": {},
   "outputs": [],
   "source": [
    "spark_df = csv_to_sparkdf(\"/input/london.csv\")"
   ]
  },
  {
   "cell_type": "code",
   "execution_count": null,
   "metadata": {},
   "outputs": [],
   "source": [
    "statistics(spark_df)"
   ]
  },
  {
   "cell_type": "code",
   "execution_count": null,
   "metadata": {},
   "outputs": [],
   "source": [
    "filtered_df = cleaning(spark_df)"
   ]
  },
  {
   "cell_type": "code",
   "execution_count": null,
   "metadata": {},
   "outputs": [],
   "source": [
    "sparkdf_to_csv(filtered_df)"
   ]
  },
  {
   "cell_type": "markdown",
   "metadata": {},
   "source": [
    "### CLEANING TITLES DATASET"
   ]
  },
  {
   "cell_type": "code",
   "execution_count": null,
   "metadata": {},
   "outputs": [],
   "source": [
    "spark_df = csv_to_sparkdf(\"/input/dirty_titles.csv\")"
   ]
  },
  {
   "cell_type": "code",
   "execution_count": null,
   "metadata": {},
   "outputs": [],
   "source": [
    "statistics(spark_df)"
   ]
  },
  {
   "cell_type": "code",
   "execution_count": null,
   "metadata": {},
   "outputs": [],
   "source": [
    "filtered_df = cleaning(spark_df)"
   ]
  },
  {
   "cell_type": "code",
   "execution_count": null,
   "metadata": {},
   "outputs": [],
   "source": [
    "sparkdf_to_csv(filtered_df)"
   ]
  },
  {
   "cell_type": "markdown",
   "metadata": {},
   "source": [
    "### CLEANING PRODUCTS MARKET NOV 2019 DATASET"
   ]
  },
  {
   "cell_type": "code",
   "execution_count": null,
   "metadata": {},
   "outputs": [],
   "source": [
    "spark_df = csv_to_sparkdf(\"/input/2019-Nov.csv\")"
   ]
  },
  {
   "cell_type": "code",
   "execution_count": null,
   "metadata": {},
   "outputs": [],
   "source": [
    "statistics(spark_df)"
   ]
  },
  {
   "cell_type": "code",
   "execution_count": null,
   "metadata": {},
   "outputs": [],
   "source": [
    "filtered_df = cleaning(spark_df)"
   ]
  },
  {
   "cell_type": "code",
   "execution_count": null,
   "metadata": {},
   "outputs": [],
   "source": [
    "sparkdf_to_csv(filtered_df)"
   ]
  }
 ],
 "metadata": {
  "kernelspec": {
   "display_name": "base",
   "language": "python",
   "name": "python3"
  },
  "language_info": {
   "codemirror_mode": {
    "name": "ipython",
    "version": 3
   },
   "file_extension": ".py",
   "mimetype": "text/x-python",
   "name": "python",
   "nbconvert_exporter": "python",
   "pygments_lexer": "ipython3",
   "version": "3.11.7"
  }
 },
 "nbformat": 4,
 "nbformat_minor": 2
}
