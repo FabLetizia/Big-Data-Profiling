{
 "cells": [
  {
   "cell_type": "code",
   "execution_count": 1,
   "metadata": {},
   "outputs": [],
   "source": [
    "import pandas as pd\n",
    "import numpy as np\n",
    "import random\n",
    "import string\n",
    "from sklearn.model_selection import train_test_split\n",
    "from sklearn.ensemble import RandomForestClassifier\n",
    "from sklearn.preprocessing import LabelEncoder\n",
    "from sklearn.pipeline import Pipeline\n",
    "from sklearn.metrics import accuracy_score, f1_score"
   ]
  },
  {
   "cell_type": "markdown",
   "metadata": {},
   "source": [
    "### PRE-PROCESSING FUNCTIONS"
   ]
  },
  {
   "cell_type": "code",
   "execution_count": 2,
   "metadata": {},
   "outputs": [],
   "source": [
    "# Function to generate a random string of 6 characters\n",
    "def random_string(length=6):\n",
    "    letters = string.ascii_lowercase\n",
    "    return ''.join(random.choice(letters) for i in range(length))"
   ]
  },
  {
   "cell_type": "code",
   "execution_count": 3,
   "metadata": {},
   "outputs": [],
   "source": [
    "''' \n",
    "Function that replaces the remaining null values \n",
    "(cannot be used for model training/testing)\n",
    "'''\n",
    "def replace_null_or_n(value, column):\n",
    "    if pd.isnull(value) or value == r\"\\N\":\n",
    "        if column == 'genres':\n",
    "            return random_string()\n",
    "        elif column in ['titleType', 'primaryTitle', 'originalTitle']:\n",
    "            return random_string()\n",
    "        elif column == 'isAdult':\n",
    "            return random.randint(0, 1)\n",
    "        elif column == 'runtimeMinutes':\n",
    "            return random.choice([100,150,200])\n",
    "    return value"
   ]
  },
  {
   "cell_type": "code",
   "execution_count": 52,
   "metadata": {},
   "outputs": [],
   "source": [
    "'''\n",
    "    The function cleans, processes and encodes the columns of the dataset to make \n",
    "    it suitable for use in a machine learning model.\n",
    "'''\n",
    "def prepare_dataset_for_model(data):\n",
    "    # Delete columns not required for the model\n",
    "    data = data.drop(columns=['originalTitle', 'startYear', 'endYear', 'tconst'])\n",
    "    \n",
    "    # For the genres column we only take the first value\n",
    "    data['genres'] = data['genres'].astype(str)\n",
    "    data['genres'] = data['genres'].apply(lambda x: x.split(',')[0])\n",
    "\n",
    "    # Encoding of values in string type columns\n",
    "    categorial_columns = ['titleType', 'primaryTitle', 'genres']\n",
    "    label_encoder = LabelEncoder()\n",
    "    for column in categorial_columns:\n",
    "        data[column] = label_encoder.fit_transform(data[column])\n",
    "    \n",
    "    # Filters the DataFrame keeping only rows where 'isAdult' is 0 or 1\n",
    "    data = data[data['isAdult'].isin([0, 1, '0', '1'])]\n",
    "    # Converts '0' and '1' values to numbers\n",
    "    data['isAdult'] = data['isAdult'].apply(lambda x: int(x))\n",
    "\n",
    "    # For special cases not already converted\n",
    "    # Convert all DataFrame values to numeric, forcing non-numeric values to NaN\n",
    "    data_numeric = data.apply(pd.to_numeric, errors='coerce')\n",
    "    # Deletes lines containing NaN\n",
    "    data = data_numeric.dropna()\n",
    "\n",
    "    unique_genres = data['isAdult'].unique()\n",
    "    print(f\"Unique value in isAdult: {unique_genres}\")\n",
    "    \n",
    "    print(f\"Number of rows and columns: {data.shape}\")\n",
    "    print(\"First five rows:\")\n",
    "    print(data.head(5))\n",
    "    return data\n"
   ]
  },
  {
   "cell_type": "markdown",
   "metadata": {},
   "source": [
    "### EVALUATION FUNCTIONS"
   ]
  },
  {
   "cell_type": "code",
   "execution_count": 37,
   "metadata": {},
   "outputs": [],
   "source": [
    "''' \n",
    "    This function uses the data passed into the input dataframe for training and testing a \n",
    "    random forest classifier and extracts its accuracy and f1 score metrics.\n",
    "'''\n",
    "def model_training_for_profiling_evaluation(data, target, features):\n",
    "    X = data[features]\n",
    "    y = data[target]\n",
    "    \n",
    "    print(f\"Feature data shape: {X.shape}\")\n",
    "    print(f\"Target data shape: {y.shape}\")\n",
    "    \n",
    "    X_train, X_test, y_train, y_test = train_test_split(X, y, test_size=0.2, random_state=42)\n",
    "    print(f\"Training set size: {X_train.shape}\")\n",
    "    print(f\"Test set size: {X_test.shape}\")\n",
    "    print(\"Training of the model...\")\n",
    "    # Model used: RandomForestClassifier\n",
    "    model = Pipeline(steps=[\n",
    "        ('classifier', RandomForestClassifier(random_state=42))\n",
    "    ])\n",
    " \n",
    "    model.fit(X_train, y_train)\n",
    "    print(\"The model was trained.\")\n",
    "    \n",
    "    y_pred = model.predict(X_test)\n",
    "    accuracy = accuracy_score(y_test, y_pred)\n",
    "    f1 = f1_score(y_test, y_pred, average='weighted')\n",
    "\n",
    "    print(f'Accuracy: {accuracy}')\n",
    "    print(f'F1 Score: {f1}')\n",
    "    "
   ]
  },
  {
   "cell_type": "markdown",
   "metadata": {},
   "source": [
    "### DIRTY TITLES DATASET"
   ]
  },
  {
   "cell_type": "code",
   "execution_count": 39,
   "metadata": {},
   "outputs": [
    {
     "name": "stderr",
     "output_type": "stream",
     "text": [
      "/var/folders/29/hp9758mj5zj7dcbpxts76vt00000gn/T/ipykernel_43043/3902114655.py:2: DtypeWarning: Columns (0,1,2,3,4,5,6,7,8) have mixed types. Specify dtype option on import or set low_memory=False.\n",
      "  dirty_data = pd.read_csv('../../datasets/initial_datasets/dirty_titles.csv', on_bad_lines='skip')\n"
     ]
    }
   ],
   "source": [
    "# Data loading\n",
    "dirty_data = pd.read_csv('../../datasets/initial_datasets/dirty_titles.csv', on_bad_lines='skip')\n",
    "# Sample of 1.000.000 of rows\n",
    "dirty_data = dirty_data.tail(1000000)"
   ]
  },
  {
   "cell_type": "code",
   "execution_count": 40,
   "metadata": {},
   "outputs": [],
   "source": [
    "# Applies the function relace_null_or_n to all columns of the DataFrame\n",
    "for column in dirty_data.columns:\n",
    "    dirty_data[column] = dirty_data[column].apply(lambda x: replace_null_or_n(x, column))"
   ]
  },
  {
   "cell_type": "code",
   "execution_count": 41,
   "metadata": {},
   "outputs": [
    {
     "name": "stdout",
     "output_type": "stream",
     "text": [
      "Unique value in isAdult: [1 0]\n",
      "Number of rows and columns: (1000000, 5)\n",
      "First five rows:\n",
      "          titleType  primaryTitle  isAdult  runtimeMinutes  genres\n",
      "63027488     850866        895795        1             100  934085\n",
      "63027489     738548        522463        1             200  706907\n",
      "63027490     631715        786311        1             100  294350\n",
      "63027491     444389         31395        1             100  561179\n",
      "63027492      41950        336227        1             200  726894\n"
     ]
    }
   ],
   "source": [
    "dirty_data = prepare_dataset_for_model(dirty_data)"
   ]
  },
  {
   "cell_type": "code",
   "execution_count": 42,
   "metadata": {},
   "outputs": [
    {
     "name": "stdout",
     "output_type": "stream",
     "text": [
      "Feature data shape: (1000000, 4)\n",
      "Target data shape: (1000000,)\n",
      "Training set size: (800000, 4)\n",
      "Test set size: (200000, 4)\n",
      "Training of the model...\n",
      "The model was trained.\n",
      "Accuracy: 0.50047\n",
      "F1 Score: 0.5003204493184108\n"
     ]
    }
   ],
   "source": [
    "features = ['titleType', 'primaryTitle', 'runtimeMinutes', 'genres']\n",
    "target = 'isAdult'\n",
    "model_training_for_profiling_evaluation(dirty_data, target, features)"
   ]
  },
  {
   "cell_type": "markdown",
   "metadata": {},
   "source": [
    "### CLEANING TITLES DATASET"
   ]
  },
  {
   "cell_type": "code",
   "execution_count": 43,
   "metadata": {},
   "outputs": [],
   "source": [
    "# Data loading\n",
    "cleaning_data = pd.read_csv('../../datasets/cleaned_datasets/cleaned_titles.csv', on_bad_lines='skip')\n",
    "# Sample of 1.000.000 of rows\n",
    "cleaning_data = cleaning_data.tail(1000000)"
   ]
  },
  {
   "cell_type": "code",
   "execution_count": 44,
   "metadata": {},
   "outputs": [],
   "source": [
    "# Applies the function relace_null_or_n to all columns of the DataFrame\n",
    "for column in dirty_data.columns:\n",
    "    cleaning_data[column] = cleaning_data[column].apply(lambda x: replace_null_or_n(x, column))"
   ]
  },
  {
   "cell_type": "code",
   "execution_count": 53,
   "metadata": {},
   "outputs": [
    {
     "name": "stdout",
     "output_type": "stream",
     "text": [
      "Unique value in isAdult: [0 1]\n",
      "Number of rows and columns: (999870, 5)\n",
      "First five rows:\n",
      "         titleType  primaryTitle  isAdult  runtimeMinutes  genres\n",
      "9667599          2        321032        0             100       8\n",
      "9667600          2        224726        0             100       8\n",
      "9667601          2        160042        0             200       8\n",
      "9667602          2        120128        0             150      24\n",
      "9667603          0        489343        0             100      12\n"
     ]
    }
   ],
   "source": [
    "cleaning_data = prepare_dataset_for_model(cleaning_data)"
   ]
  },
  {
   "cell_type": "code",
   "execution_count": 54,
   "metadata": {},
   "outputs": [
    {
     "name": "stdout",
     "output_type": "stream",
     "text": [
      "Feature data shape: (999870, 4)\n",
      "Target data shape: (999870,)\n",
      "Training set size: (799896, 4)\n",
      "Test set size: (199974, 4)\n",
      "Training of the model...\n",
      "The model was trained.\n",
      "Accuracy: 0.9993849200396051\n",
      "F1 Score: 0.9993832974720626\n"
     ]
    }
   ],
   "source": [
    "features = ['titleType', 'primaryTitle', 'runtimeMinutes', 'genres']\n",
    "target = 'isAdult'\n",
    "model_training_for_profiling_evaluation(cleaning_data, target, features)"
   ]
  }
 ],
 "metadata": {
  "kernelspec": {
   "display_name": "base",
   "language": "python",
   "name": "python3"
  },
  "language_info": {
   "codemirror_mode": {
    "name": "ipython",
    "version": 3
   },
   "file_extension": ".py",
   "mimetype": "text/x-python",
   "name": "python",
   "nbconvert_exporter": "python",
   "pygments_lexer": "ipython3",
   "version": "3.11.7"
  }
 },
 "nbformat": 4,
 "nbformat_minor": 2
}
