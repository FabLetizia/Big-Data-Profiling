{
 "cells": [
  {
   "cell_type": "code",
   "execution_count": 1,
   "metadata": {},
   "outputs": [],
   "source": [
    "import pandas as pd\n",
    "import random\n",
    "import string\n",
    "from sklearn.model_selection import train_test_split\n",
    "from sklearn.ensemble import RandomForestClassifier\n",
    "from sklearn.metrics import accuracy_score, f1_score"
   ]
  },
  {
   "cell_type": "code",
   "execution_count": 4,
   "metadata": {},
   "outputs": [
    {
     "name": "stderr",
     "output_type": "stream",
     "text": [
      "/var/folders/29/hp9758mj5zj7dcbpxts76vt00000gn/T/ipykernel_45834/1969342361.py:9: DtypeWarning: Columns (0,1,2,3,4,5,6,7,8) have mixed types. Specify dtype option on import or set low_memory=False.\n",
      "  df = pd.read_csv('../../datasets/initial_datasets/dirty_titles.csv')\n"
     ]
    }
   ],
   "source": [
    "# Funzione per generare una stringa casuale di 4 caratteri\n",
    "def random_string(length=4):\n",
    "    letters = string.ascii_lowercase\n",
    "    return ''.join(random.choice(letters) for i in range(length))\n",
    "\n",
    "# Carica il dataset\n",
    "# Assumiamo che il dataset sia in un file CSV chiamato 'dataset.csv'\n",
    "# Se il tuo dataset è in un altro formato o percorso, modifica di conseguenza\n",
    "df = pd.read_csv('../../datasets/initial_datasets/dirty_titles.csv')\n",
    "\n",
    "# Sostituisci i valori nulli in tutte le colonne con \"\\n\"\n",
    "df.fillna(r\"\\N\", inplace=True)\n",
    "\n",
    "# Sostituisci i valori nulli nella colonna 'genres' con una stringa casuale di 4 caratteri\n",
    "df['genres'] = df['genres'].apply(lambda x: random_string() if x == r\"\\N\" else x)\n",
    "\n",
    "df.tail(5)\n",
    "\n"
   ]
  },
  {
   "cell_type": "code",
   "execution_count": null,
   "metadata": {},
   "outputs": [],
   "source": [
    "# Data Loading\n",
    "dirty_data = pd.read_csv('../../datasets/initial_datasets/dirty_titles.csv')\n",
    "clean_data = pd.read_csv('../../datasets/cleaned_datasets/cleaned_titles.csv')\n",
    "\n",
    "# fields: tconst,titleType,primaryTitle,originalTitle,isAdult,startYear,endYear,runtimeMinutes,genres\n",
    "\n",
    "# Selection of features variables (columns) and target variable (column)\n",
    "features = ['titleType', 'primaryTitle', 'isAdult', 'runtimeMinutes'] \n",
    "target = 'genres'\n",
    "\n",
    "# Creation of dataframes with features and target\n",
    "X_dirty = dirty_data[features]\n",
    "y_dirty = dirty_data[target]\n",
    "\n",
    "X_clean = clean_data[features]\n",
    "y_clean = clean_data[target]\n",
    "\n",
    "# Split data for training and testing\n",
    "X_dirty_train, X_dirty_test, y_dirty_train, y_dirty_test = train_test_split(X_dirty, y_dirty, test_size=0.2, random_state=42)\n",
    "X_clean_train, X_clean_test, y_clean_train, y_clean_test = train_test_split(X_clean, y_clean, test_size=0.2, random_state=42)\n",
    "\n",
    "# Model training on dirty data\n",
    "model_dirty = RandomForestClassifier(random_state=42)\n",
    "model_dirty.fit(X_dirty_train, y_dirty_train)\n",
    "\n",
    "# Model training on cleaned data\n",
    "model_clean = RandomForestClassifier(random_state=42)\n",
    "model_clean.fit(X_clean_train, y_clean_train)\n",
    "\n",
    "# Prediction and evaluation of the model\n",
    "y_dirty_pred = model_dirty.predict(X_dirty_test)\n",
    "accuracy_dirty = accuracy_score(y_dirty_test, y_dirty_pred)\n",
    "f1_dirty = f1_score(y_dirty_test, y_dirty_pred, average='weighted')\n",
    "\n",
    "# Predizione e valutazione del modello pulito\n",
    "y_clean_pred = model_clean.predict(X_clean_test)\n",
    "accuracy_clean = accuracy_score(y_clean_test, y_clean_pred)\n",
    "f1_clean = f1_score(y_clean_test, y_clean_pred, average='weighted')\n",
    "\n",
    "# Confronto delle prestazioni\n",
    "print(f'Model trained on dirty data: Accuracy = {accuracy_dirty}, F1 Score = {f1_dirty}')\n",
    "print(f'Model trained on clean data: Accuracy = {accuracy_clean}, F1 Score = {f1_clean}')\n"
   ]
  }
 ],
 "metadata": {
  "kernelspec": {
   "display_name": "base",
   "language": "python",
   "name": "python3"
  },
  "language_info": {
   "codemirror_mode": {
    "name": "ipython",
    "version": 3
   },
   "file_extension": ".py",
   "mimetype": "text/x-python",
   "name": "python",
   "nbconvert_exporter": "python",
   "pygments_lexer": "ipython3",
   "version": "3.11.7"
  }
 },
 "nbformat": 4,
 "nbformat_minor": 2
}
