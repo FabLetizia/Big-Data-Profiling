{
 "cells": [
  {
   "cell_type": "code",
   "execution_count": 1,
   "metadata": {},
   "outputs": [],
   "source": [
    "import pandas as pd"
   ]
  },
  {
   "cell_type": "code",
   "execution_count": null,
   "metadata": {},
   "outputs": [],
   "source": [
    "# if there are two input dataset\n",
    "''' to merge two datasets '''\n",
    "file1 = pd.read_csv('../../datasets/initial_datasets/CAvideos.csv')\n",
    "file2 = pd.read_csv('../../datasets/initial_datasets/USvideos.csv')\n",
    "\n",
    "merged_df = pd.concat([file1, file2])\n"
   ]
  },
  {
   "cell_type": "code",
   "execution_count": 2,
   "metadata": {},
   "outputs": [
    {
     "name": "stderr",
     "output_type": "stream",
     "text": [
      "/var/folders/29/hp9758mj5zj7dcbpxts76vt00000gn/T/ipykernel_2515/1695162330.py:1: DtypeWarning: Columns (4) have mixed types. Specify dtype option on import or set low_memory=False.\n",
      "  merged_df =  pd.read_csv('../../datasets/initial_datasets/titles.csv')\n"
     ]
    }
   ],
   "source": [
    "# if there is one input dataset\n",
    "merged_df =  pd.read_csv('../../datasets/initial_datasets/titles.csv')"
   ]
  },
  {
   "cell_type": "code",
   "execution_count": 3,
   "metadata": {},
   "outputs": [],
   "source": [
    "''' to duplicate a dataset '''\n",
    "duplicated_df = pd.concat([merged_df, merged_df])"
   ]
  },
  {
   "cell_type": "code",
   "execution_count": 4,
   "metadata": {},
   "outputs": [],
   "source": [
    "''' to insert null values into the dataset '''\n",
    "# Create df of null values with the same form as duplicated_df\n",
    "null_df = pd.DataFrame(None, index=duplicated_df.index, columns=duplicated_df.columns)\n",
    "dirty_df = pd.concat([duplicated_df, null_df, null_df])"
   ]
  },
  {
   "cell_type": "code",
   "execution_count": 5,
   "metadata": {},
   "outputs": [],
   "source": [
    "dirty_df.to_csv('../../datasets/initial_datasets/dirty_titles.csv', index=False)"
   ]
  }
 ],
 "metadata": {
  "kernelspec": {
   "display_name": "base",
   "language": "python",
   "name": "python3"
  },
  "language_info": {
   "codemirror_mode": {
    "name": "ipython",
    "version": 3
   },
   "file_extension": ".py",
   "mimetype": "text/x-python",
   "name": "python",
   "nbconvert_exporter": "python",
   "pygments_lexer": "ipython3",
   "version": "3.11.7"
  }
 },
 "nbformat": 4,
 "nbformat_minor": 2
}
